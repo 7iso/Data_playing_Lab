{
 "cells": [
  {
   "cell_type": "code",
   "execution_count": 2,
   "id": "3224f71f",
   "metadata": {},
   "outputs": [],
   "source": []
  },
  {
   "cell_type": "code",
   "execution_count": 3,
   "id": "b01ea759",
   "metadata": {},
   "outputs": [],
   "source": []
  },
  {
   "cell_type": "code",
   "execution_count": null,
   "id": "f8f8c90c",
   "metadata": {},
   "outputs": [],
   "source": []
  },
  {
   "cell_type": "code",
   "execution_count": 1,
   "id": "e9d8d403",
   "metadata": {},
   "outputs": [],
   "source": [
    "import pandas as pd"
   ]
  },
  {
   "cell_type": "code",
   "execution_count": 2,
   "id": "0b3ab132",
   "metadata": {},
   "outputs": [
    {
     "name": "stdout",
     "output_type": "stream",
     "text": [
      "CSV file has been fixed and saved as test2F.csv\n"
     ]
    }
   ],
   "source": [
    "import csv\n",
    "\n",
    "\n",
    "def fix_csv(input_file, output_file, correct_delimiter=','):\n",
    "    with open(input_file, 'r', newline='') as csvfile:\n",
    "        reader = csv.reader(csvfile, delimiter=';')\n",
    "        rows = list(reader)\n",
    "\n",
    "    with open(output_file, 'w', newline='') as csvfile:\n",
    "        writer = csv.writer(csvfile, delimiter=correct_delimiter)\n",
    "        writer.writerows(rows)\n",
    "\n",
    "\n",
    "input_file = 'test2.csv'  \n",
    "output_file = 'test2F.csv'  \n",
    "\n",
    "fix_csv(input_file, output_file)\n",
    "print(\"CSV file has been fixed and saved as\", output_file)"
   ]
  },
  {
   "cell_type": "code",
   "execution_count": 9,
   "id": "13239371",
   "metadata": {},
   "outputs": [],
   "source": []
  },
  {
   "cell_type": "code",
   "execution_count": null,
   "id": "0b0b48fb",
   "metadata": {},
   "outputs": [],
   "source": []
  },
  {
   "cell_type": "code",
   "execution_count": null,
   "id": "e360b711",
   "metadata": {},
   "outputs": [],
   "source": []
  },
  {
   "cell_type": "code",
   "execution_count": 3,
   "id": "1755b477",
   "metadata": {},
   "outputs": [],
   "source": [
    "df = pd.read_csv(r'C:\\Users\\alaa\\Desktop\\Toughyan\\financial-data\\AMZN.csv')"
   ]
  },
  {
   "cell_type": "code",
   "execution_count": 4,
   "id": "78884613",
   "metadata": {},
   "outputs": [
    {
     "data": {
      "text/html": [
       "<div>\n",
       "<style scoped>\n",
       "    .dataframe tbody tr th:only-of-type {\n",
       "        vertical-align: middle;\n",
       "    }\n",
       "\n",
       "    .dataframe tbody tr th {\n",
       "        vertical-align: top;\n",
       "    }\n",
       "\n",
       "    .dataframe thead th {\n",
       "        text-align: right;\n",
       "    }\n",
       "</style>\n",
       "<table border=\"1\" class=\"dataframe\">\n",
       "  <thead>\n",
       "    <tr style=\"text-align: right;\">\n",
       "      <th></th>\n",
       "      <th>date</th>\n",
       "      <th>open</th>\n",
       "      <th>close</th>\n",
       "    </tr>\n",
       "  </thead>\n",
       "  <tbody>\n",
       "    <tr>\n",
       "      <th>0</th>\n",
       "      <td>2003-01-02</td>\n",
       "      <td>19.19</td>\n",
       "      <td>19.57</td>\n",
       "    </tr>\n",
       "    <tr>\n",
       "      <th>1</th>\n",
       "      <td>2003-01-03</td>\n",
       "      <td>19.59</td>\n",
       "      <td>20.52</td>\n",
       "    </tr>\n",
       "    <tr>\n",
       "      <th>2</th>\n",
       "      <td>2003-01-06</td>\n",
       "      <td>20.40</td>\n",
       "      <td>20.70</td>\n",
       "    </tr>\n",
       "    <tr>\n",
       "      <th>3</th>\n",
       "      <td>2003-01-07</td>\n",
       "      <td>20.83</td>\n",
       "      <td>21.55</td>\n",
       "    </tr>\n",
       "    <tr>\n",
       "      <th>4</th>\n",
       "      <td>2003-01-08</td>\n",
       "      <td>21.44</td>\n",
       "      <td>21.02</td>\n",
       "    </tr>\n",
       "    <tr>\n",
       "      <th>...</th>\n",
       "      <td>...</td>\n",
       "      <td>...</td>\n",
       "      <td>...</td>\n",
       "    </tr>\n",
       "    <tr>\n",
       "      <th>1253</th>\n",
       "      <td>2007-12-24</td>\n",
       "      <td>91.05</td>\n",
       "      <td>91.01</td>\n",
       "    </tr>\n",
       "    <tr>\n",
       "      <th>1254</th>\n",
       "      <td>2007-12-26</td>\n",
       "      <td>91.48</td>\n",
       "      <td>92.85</td>\n",
       "    </tr>\n",
       "    <tr>\n",
       "      <th>1255</th>\n",
       "      <td>2007-12-27</td>\n",
       "      <td>92.67</td>\n",
       "      <td>94.25</td>\n",
       "    </tr>\n",
       "    <tr>\n",
       "      <th>1256</th>\n",
       "      <td>2007-12-28</td>\n",
       "      <td>95.27</td>\n",
       "      <td>94.45</td>\n",
       "    </tr>\n",
       "    <tr>\n",
       "      <th>1257</th>\n",
       "      <td>2007-12-31</td>\n",
       "      <td>93.81</td>\n",
       "      <td>92.64</td>\n",
       "    </tr>\n",
       "  </tbody>\n",
       "</table>\n",
       "<p>1258 rows × 3 columns</p>\n",
       "</div>"
      ],
      "text/plain": [
       "            date   open  close\n",
       "0     2003-01-02  19.19  19.57\n",
       "1     2003-01-03  19.59  20.52\n",
       "2     2003-01-06  20.40  20.70\n",
       "3     2003-01-07  20.83  21.55\n",
       "4     2003-01-08  21.44  21.02\n",
       "...          ...    ...    ...\n",
       "1253  2007-12-24  91.05  91.01\n",
       "1254  2007-12-26  91.48  92.85\n",
       "1255  2007-12-27  92.67  94.25\n",
       "1256  2007-12-28  95.27  94.45\n",
       "1257  2007-12-31  93.81  92.64\n",
       "\n",
       "[1258 rows x 3 columns]"
      ]
     },
     "execution_count": 4,
     "metadata": {},
     "output_type": "execute_result"
    }
   ],
   "source": [
    "df"
   ]
  },
  {
   "cell_type": "code",
   "execution_count": 5,
   "id": "33aa19f4",
   "metadata": {},
   "outputs": [
    {
     "data": {
      "text/plain": [
       "date     0\n",
       "open     0\n",
       "close    0\n",
       "dtype: int64"
      ]
     },
     "execution_count": 5,
     "metadata": {},
     "output_type": "execute_result"
    }
   ],
   "source": [
    "df.isnull().sum()"
   ]
  },
  {
   "cell_type": "code",
   "execution_count": 6,
   "id": "b197a1c9",
   "metadata": {},
   "outputs": [
    {
     "data": {
      "text/plain": [
       "date      object\n",
       "open     float64\n",
       "close    float64\n",
       "dtype: object"
      ]
     },
     "execution_count": 6,
     "metadata": {},
     "output_type": "execute_result"
    }
   ],
   "source": [
    "df.dtypes"
   ]
  },
  {
   "cell_type": "code",
   "execution_count": 7,
   "id": "04cd8b6f",
   "metadata": {},
   "outputs": [
    {
     "data": {
      "text/plain": [
       "0      2003-01-02\n",
       "1      2003-01-03\n",
       "2      2003-01-06\n",
       "3      2003-01-07\n",
       "4      2003-01-08\n",
       "          ...    \n",
       "1253   2007-12-24\n",
       "1254   2007-12-26\n",
       "1255   2007-12-27\n",
       "1256   2007-12-28\n",
       "1257   2007-12-31\n",
       "Name: date, Length: 1258, dtype: datetime64[ns]"
      ]
     },
     "execution_count": 7,
     "metadata": {},
     "output_type": "execute_result"
    }
   ],
   "source": [
    "df.date.astype('datetime64')"
   ]
  },
  {
   "cell_type": "code",
   "execution_count": 8,
   "id": "b158d1c2",
   "metadata": {},
   "outputs": [],
   "source": [
    "df[\"date\"] = pd.to_datetime(df[\"date\"])"
   ]
  },
  {
   "cell_type": "code",
   "execution_count": 9,
   "id": "024b16e7",
   "metadata": {},
   "outputs": [
    {
     "data": {
      "text/html": [
       "<div>\n",
       "<style scoped>\n",
       "    .dataframe tbody tr th:only-of-type {\n",
       "        vertical-align: middle;\n",
       "    }\n",
       "\n",
       "    .dataframe tbody tr th {\n",
       "        vertical-align: top;\n",
       "    }\n",
       "\n",
       "    .dataframe thead th {\n",
       "        text-align: right;\n",
       "    }\n",
       "</style>\n",
       "<table border=\"1\" class=\"dataframe\">\n",
       "  <thead>\n",
       "    <tr style=\"text-align: right;\">\n",
       "      <th></th>\n",
       "      <th>date</th>\n",
       "      <th>open</th>\n",
       "      <th>close</th>\n",
       "    </tr>\n",
       "  </thead>\n",
       "  <tbody>\n",
       "    <tr>\n",
       "      <th>0</th>\n",
       "      <td>2003-01-02</td>\n",
       "      <td>19.19</td>\n",
       "      <td>19.57</td>\n",
       "    </tr>\n",
       "    <tr>\n",
       "      <th>1</th>\n",
       "      <td>2003-01-03</td>\n",
       "      <td>19.59</td>\n",
       "      <td>20.52</td>\n",
       "    </tr>\n",
       "    <tr>\n",
       "      <th>2</th>\n",
       "      <td>2003-01-06</td>\n",
       "      <td>20.40</td>\n",
       "      <td>20.70</td>\n",
       "    </tr>\n",
       "    <tr>\n",
       "      <th>3</th>\n",
       "      <td>2003-01-07</td>\n",
       "      <td>20.83</td>\n",
       "      <td>21.55</td>\n",
       "    </tr>\n",
       "    <tr>\n",
       "      <th>4</th>\n",
       "      <td>2003-01-08</td>\n",
       "      <td>21.44</td>\n",
       "      <td>21.02</td>\n",
       "    </tr>\n",
       "    <tr>\n",
       "      <th>...</th>\n",
       "      <td>...</td>\n",
       "      <td>...</td>\n",
       "      <td>...</td>\n",
       "    </tr>\n",
       "    <tr>\n",
       "      <th>1253</th>\n",
       "      <td>2007-12-24</td>\n",
       "      <td>91.05</td>\n",
       "      <td>91.01</td>\n",
       "    </tr>\n",
       "    <tr>\n",
       "      <th>1254</th>\n",
       "      <td>2007-12-26</td>\n",
       "      <td>91.48</td>\n",
       "      <td>92.85</td>\n",
       "    </tr>\n",
       "    <tr>\n",
       "      <th>1255</th>\n",
       "      <td>2007-12-27</td>\n",
       "      <td>92.67</td>\n",
       "      <td>94.25</td>\n",
       "    </tr>\n",
       "    <tr>\n",
       "      <th>1256</th>\n",
       "      <td>2007-12-28</td>\n",
       "      <td>95.27</td>\n",
       "      <td>94.45</td>\n",
       "    </tr>\n",
       "    <tr>\n",
       "      <th>1257</th>\n",
       "      <td>2007-12-31</td>\n",
       "      <td>93.81</td>\n",
       "      <td>92.64</td>\n",
       "    </tr>\n",
       "  </tbody>\n",
       "</table>\n",
       "<p>1258 rows × 3 columns</p>\n",
       "</div>"
      ],
      "text/plain": [
       "           date   open  close\n",
       "0    2003-01-02  19.19  19.57\n",
       "1    2003-01-03  19.59  20.52\n",
       "2    2003-01-06  20.40  20.70\n",
       "3    2003-01-07  20.83  21.55\n",
       "4    2003-01-08  21.44  21.02\n",
       "...         ...    ...    ...\n",
       "1253 2007-12-24  91.05  91.01\n",
       "1254 2007-12-26  91.48  92.85\n",
       "1255 2007-12-27  92.67  94.25\n",
       "1256 2007-12-28  95.27  94.45\n",
       "1257 2007-12-31  93.81  92.64\n",
       "\n",
       "[1258 rows x 3 columns]"
      ]
     },
     "execution_count": 9,
     "metadata": {},
     "output_type": "execute_result"
    }
   ],
   "source": [
    "df"
   ]
  },
  {
   "cell_type": "code",
   "execution_count": 10,
   "id": "5c620cc2",
   "metadata": {},
   "outputs": [
    {
     "name": "stdout",
     "output_type": "stream",
     "text": [
      "<class 'pandas.core.frame.DataFrame'>\n",
      "RangeIndex: 1258 entries, 0 to 1257\n",
      "Data columns (total 3 columns):\n",
      " #   Column  Non-Null Count  Dtype         \n",
      "---  ------  --------------  -----         \n",
      " 0   date    1258 non-null   datetime64[ns]\n",
      " 1   open    1258 non-null   float64       \n",
      " 2   close   1258 non-null   float64       \n",
      "dtypes: datetime64[ns](1), float64(2)\n",
      "memory usage: 29.6 KB\n"
     ]
    }
   ],
   "source": [
    "df.info()"
   ]
  },
  {
   "cell_type": "code",
   "execution_count": 11,
   "id": "420b3e7b",
   "metadata": {},
   "outputs": [],
   "source": [
    "df['year'] = df['date'].dt.year"
   ]
  },
  {
   "cell_type": "code",
   "execution_count": 12,
   "id": "5f5b1392",
   "metadata": {},
   "outputs": [
    {
     "data": {
      "text/html": [
       "<div>\n",
       "<style scoped>\n",
       "    .dataframe tbody tr th:only-of-type {\n",
       "        vertical-align: middle;\n",
       "    }\n",
       "\n",
       "    .dataframe tbody tr th {\n",
       "        vertical-align: top;\n",
       "    }\n",
       "\n",
       "    .dataframe thead th {\n",
       "        text-align: right;\n",
       "    }\n",
       "</style>\n",
       "<table border=\"1\" class=\"dataframe\">\n",
       "  <thead>\n",
       "    <tr style=\"text-align: right;\">\n",
       "      <th></th>\n",
       "      <th>date</th>\n",
       "      <th>open</th>\n",
       "      <th>close</th>\n",
       "      <th>year</th>\n",
       "    </tr>\n",
       "  </thead>\n",
       "  <tbody>\n",
       "    <tr>\n",
       "      <th>0</th>\n",
       "      <td>2003-01-02</td>\n",
       "      <td>19.19</td>\n",
       "      <td>19.57</td>\n",
       "      <td>2003</td>\n",
       "    </tr>\n",
       "    <tr>\n",
       "      <th>1</th>\n",
       "      <td>2003-01-03</td>\n",
       "      <td>19.59</td>\n",
       "      <td>20.52</td>\n",
       "      <td>2003</td>\n",
       "    </tr>\n",
       "    <tr>\n",
       "      <th>2</th>\n",
       "      <td>2003-01-06</td>\n",
       "      <td>20.40</td>\n",
       "      <td>20.70</td>\n",
       "      <td>2003</td>\n",
       "    </tr>\n",
       "    <tr>\n",
       "      <th>3</th>\n",
       "      <td>2003-01-07</td>\n",
       "      <td>20.83</td>\n",
       "      <td>21.55</td>\n",
       "      <td>2003</td>\n",
       "    </tr>\n",
       "    <tr>\n",
       "      <th>4</th>\n",
       "      <td>2003-01-08</td>\n",
       "      <td>21.44</td>\n",
       "      <td>21.02</td>\n",
       "      <td>2003</td>\n",
       "    </tr>\n",
       "    <tr>\n",
       "      <th>...</th>\n",
       "      <td>...</td>\n",
       "      <td>...</td>\n",
       "      <td>...</td>\n",
       "      <td>...</td>\n",
       "    </tr>\n",
       "    <tr>\n",
       "      <th>1253</th>\n",
       "      <td>2007-12-24</td>\n",
       "      <td>91.05</td>\n",
       "      <td>91.01</td>\n",
       "      <td>2007</td>\n",
       "    </tr>\n",
       "    <tr>\n",
       "      <th>1254</th>\n",
       "      <td>2007-12-26</td>\n",
       "      <td>91.48</td>\n",
       "      <td>92.85</td>\n",
       "      <td>2007</td>\n",
       "    </tr>\n",
       "    <tr>\n",
       "      <th>1255</th>\n",
       "      <td>2007-12-27</td>\n",
       "      <td>92.67</td>\n",
       "      <td>94.25</td>\n",
       "      <td>2007</td>\n",
       "    </tr>\n",
       "    <tr>\n",
       "      <th>1256</th>\n",
       "      <td>2007-12-28</td>\n",
       "      <td>95.27</td>\n",
       "      <td>94.45</td>\n",
       "      <td>2007</td>\n",
       "    </tr>\n",
       "    <tr>\n",
       "      <th>1257</th>\n",
       "      <td>2007-12-31</td>\n",
       "      <td>93.81</td>\n",
       "      <td>92.64</td>\n",
       "      <td>2007</td>\n",
       "    </tr>\n",
       "  </tbody>\n",
       "</table>\n",
       "<p>1258 rows × 4 columns</p>\n",
       "</div>"
      ],
      "text/plain": [
       "           date   open  close  year\n",
       "0    2003-01-02  19.19  19.57  2003\n",
       "1    2003-01-03  19.59  20.52  2003\n",
       "2    2003-01-06  20.40  20.70  2003\n",
       "3    2003-01-07  20.83  21.55  2003\n",
       "4    2003-01-08  21.44  21.02  2003\n",
       "...         ...    ...    ...   ...\n",
       "1253 2007-12-24  91.05  91.01  2007\n",
       "1254 2007-12-26  91.48  92.85  2007\n",
       "1255 2007-12-27  92.67  94.25  2007\n",
       "1256 2007-12-28  95.27  94.45  2007\n",
       "1257 2007-12-31  93.81  92.64  2007\n",
       "\n",
       "[1258 rows x 4 columns]"
      ]
     },
     "execution_count": 12,
     "metadata": {},
     "output_type": "execute_result"
    }
   ],
   "source": [
    "df"
   ]
  },
  {
   "cell_type": "code",
   "execution_count": 13,
   "id": "47c98d0d",
   "metadata": {},
   "outputs": [],
   "source": [
    "filtered_df = df[df['year'] > 2003]"
   ]
  },
  {
   "cell_type": "code",
   "execution_count": 14,
   "id": "c6d9eb1c",
   "metadata": {},
   "outputs": [
    {
     "data": {
      "text/html": [
       "<div>\n",
       "<style scoped>\n",
       "    .dataframe tbody tr th:only-of-type {\n",
       "        vertical-align: middle;\n",
       "    }\n",
       "\n",
       "    .dataframe tbody tr th {\n",
       "        vertical-align: top;\n",
       "    }\n",
       "\n",
       "    .dataframe thead th {\n",
       "        text-align: right;\n",
       "    }\n",
       "</style>\n",
       "<table border=\"1\" class=\"dataframe\">\n",
       "  <thead>\n",
       "    <tr style=\"text-align: right;\">\n",
       "      <th></th>\n",
       "      <th>date</th>\n",
       "      <th>open</th>\n",
       "      <th>close</th>\n",
       "      <th>year</th>\n",
       "    </tr>\n",
       "  </thead>\n",
       "  <tbody>\n",
       "    <tr>\n",
       "      <th>252</th>\n",
       "      <td>2004-01-02</td>\n",
       "      <td>52.76</td>\n",
       "      <td>51.90</td>\n",
       "      <td>2004</td>\n",
       "    </tr>\n",
       "    <tr>\n",
       "      <th>253</th>\n",
       "      <td>2004-01-05</td>\n",
       "      <td>52.00</td>\n",
       "      <td>53.27</td>\n",
       "      <td>2004</td>\n",
       "    </tr>\n",
       "    <tr>\n",
       "      <th>254</th>\n",
       "      <td>2004-01-06</td>\n",
       "      <td>53.11</td>\n",
       "      <td>53.03</td>\n",
       "      <td>2004</td>\n",
       "    </tr>\n",
       "    <tr>\n",
       "      <th>255</th>\n",
       "      <td>2004-01-07</td>\n",
       "      <td>52.18</td>\n",
       "      <td>51.90</td>\n",
       "      <td>2004</td>\n",
       "    </tr>\n",
       "    <tr>\n",
       "      <th>256</th>\n",
       "      <td>2004-01-08</td>\n",
       "      <td>52.09</td>\n",
       "      <td>50.24</td>\n",
       "      <td>2004</td>\n",
       "    </tr>\n",
       "    <tr>\n",
       "      <th>...</th>\n",
       "      <td>...</td>\n",
       "      <td>...</td>\n",
       "      <td>...</td>\n",
       "      <td>...</td>\n",
       "    </tr>\n",
       "    <tr>\n",
       "      <th>1253</th>\n",
       "      <td>2007-12-24</td>\n",
       "      <td>91.05</td>\n",
       "      <td>91.01</td>\n",
       "      <td>2007</td>\n",
       "    </tr>\n",
       "    <tr>\n",
       "      <th>1254</th>\n",
       "      <td>2007-12-26</td>\n",
       "      <td>91.48</td>\n",
       "      <td>92.85</td>\n",
       "      <td>2007</td>\n",
       "    </tr>\n",
       "    <tr>\n",
       "      <th>1255</th>\n",
       "      <td>2007-12-27</td>\n",
       "      <td>92.67</td>\n",
       "      <td>94.25</td>\n",
       "      <td>2007</td>\n",
       "    </tr>\n",
       "    <tr>\n",
       "      <th>1256</th>\n",
       "      <td>2007-12-28</td>\n",
       "      <td>95.27</td>\n",
       "      <td>94.45</td>\n",
       "      <td>2007</td>\n",
       "    </tr>\n",
       "    <tr>\n",
       "      <th>1257</th>\n",
       "      <td>2007-12-31</td>\n",
       "      <td>93.81</td>\n",
       "      <td>92.64</td>\n",
       "      <td>2007</td>\n",
       "    </tr>\n",
       "  </tbody>\n",
       "</table>\n",
       "<p>1006 rows × 4 columns</p>\n",
       "</div>"
      ],
      "text/plain": [
       "           date   open  close  year\n",
       "252  2004-01-02  52.76  51.90  2004\n",
       "253  2004-01-05  52.00  53.27  2004\n",
       "254  2004-01-06  53.11  53.03  2004\n",
       "255  2004-01-07  52.18  51.90  2004\n",
       "256  2004-01-08  52.09  50.24  2004\n",
       "...         ...    ...    ...   ...\n",
       "1253 2007-12-24  91.05  91.01  2007\n",
       "1254 2007-12-26  91.48  92.85  2007\n",
       "1255 2007-12-27  92.67  94.25  2007\n",
       "1256 2007-12-28  95.27  94.45  2007\n",
       "1257 2007-12-31  93.81  92.64  2007\n",
       "\n",
       "[1006 rows x 4 columns]"
      ]
     },
     "execution_count": 14,
     "metadata": {},
     "output_type": "execute_result"
    }
   ],
   "source": [
    "filtered_df"
   ]
  },
  {
   "cell_type": "code",
   "execution_count": 15,
   "id": "21a09854",
   "metadata": {},
   "outputs": [
    {
     "data": {
      "text/plain": [
       "0      2003-01-02\n",
       "1      2003-01-03\n",
       "2      2003-01-06\n",
       "3      2003-01-07\n",
       "4      2003-01-08\n",
       "          ...    \n",
       "1253   2007-12-24\n",
       "1254   2007-12-26\n",
       "1255   2007-12-27\n",
       "1256   2007-12-28\n",
       "1257   2007-12-31\n",
       "Name: date, Length: 1258, dtype: datetime64[ns]"
      ]
     },
     "execution_count": 15,
     "metadata": {},
     "output_type": "execute_result"
    }
   ],
   "source": [
    "df[\"date\"]"
   ]
  },
  {
   "cell_type": "code",
   "execution_count": 16,
   "id": "36d38b8c",
   "metadata": {},
   "outputs": [
    {
     "data": {
      "text/plain": [
       "0       2003\n",
       "1       2003\n",
       "2       2003\n",
       "3       2003\n",
       "4       2003\n",
       "        ... \n",
       "1253    2007\n",
       "1254    2007\n",
       "1255    2007\n",
       "1256    2007\n",
       "1257    2007\n",
       "Name: date, Length: 1258, dtype: int64"
      ]
     },
     "execution_count": 16,
     "metadata": {},
     "output_type": "execute_result"
    }
   ],
   "source": [
    "df[\"date\"].dt.year"
   ]
  },
  {
   "cell_type": "code",
   "execution_count": 17,
   "id": "6b0ae671",
   "metadata": {},
   "outputs": [
    {
     "data": {
      "text/plain": [
       "0        1\n",
       "1        1\n",
       "2        1\n",
       "3        1\n",
       "4        1\n",
       "        ..\n",
       "1253    12\n",
       "1254    12\n",
       "1255    12\n",
       "1256    12\n",
       "1257    12\n",
       "Name: date, Length: 1258, dtype: int64"
      ]
     },
     "execution_count": 17,
     "metadata": {},
     "output_type": "execute_result"
    }
   ],
   "source": [
    "df[\"date\"].dt.month"
   ]
  },
  {
   "cell_type": "code",
   "execution_count": 18,
   "id": "9e1a5331",
   "metadata": {},
   "outputs": [
    {
     "data": {
      "text/plain": [
       "0       False\n",
       "1       False\n",
       "2       False\n",
       "3       False\n",
       "4        True\n",
       "        ...  \n",
       "1253     True\n",
       "1254     True\n",
       "1255     True\n",
       "1256     True\n",
       "1257     True\n",
       "Name: date, Length: 1258, dtype: bool"
      ]
     },
     "execution_count": 18,
     "metadata": {},
     "output_type": "execute_result"
    }
   ],
   "source": [
    "df[\"date\"].dt.day>7"
   ]
  },
  {
   "cell_type": "code",
   "execution_count": 19,
   "id": "a2d14881",
   "metadata": {},
   "outputs": [],
   "source": [
    "filtered_df2 = df[(df['date'].dt.year== 2003) & (df['date'].dt.month == 2)]"
   ]
  },
  {
   "cell_type": "code",
   "execution_count": 20,
   "id": "2db2d5bf",
   "metadata": {},
   "outputs": [
    {
     "data": {
      "text/html": [
       "<div>\n",
       "<style scoped>\n",
       "    .dataframe tbody tr th:only-of-type {\n",
       "        vertical-align: middle;\n",
       "    }\n",
       "\n",
       "    .dataframe tbody tr th {\n",
       "        vertical-align: top;\n",
       "    }\n",
       "\n",
       "    .dataframe thead th {\n",
       "        text-align: right;\n",
       "    }\n",
       "</style>\n",
       "<table border=\"1\" class=\"dataframe\">\n",
       "  <thead>\n",
       "    <tr style=\"text-align: right;\">\n",
       "      <th></th>\n",
       "      <th>date</th>\n",
       "      <th>open</th>\n",
       "      <th>close</th>\n",
       "      <th>year</th>\n",
       "    </tr>\n",
       "  </thead>\n",
       "  <tbody>\n",
       "    <tr>\n",
       "      <th>21</th>\n",
       "      <td>2003-02-03</td>\n",
       "      <td>21.94</td>\n",
       "      <td>22.16</td>\n",
       "      <td>2003</td>\n",
       "    </tr>\n",
       "    <tr>\n",
       "      <th>22</th>\n",
       "      <td>2003-02-04</td>\n",
       "      <td>21.94</td>\n",
       "      <td>22.05</td>\n",
       "      <td>2003</td>\n",
       "    </tr>\n",
       "    <tr>\n",
       "      <th>23</th>\n",
       "      <td>2003-02-05</td>\n",
       "      <td>22.18</td>\n",
       "      <td>22.17</td>\n",
       "      <td>2003</td>\n",
       "    </tr>\n",
       "    <tr>\n",
       "      <th>24</th>\n",
       "      <td>2003-02-06</td>\n",
       "      <td>22.16</td>\n",
       "      <td>22.09</td>\n",
       "      <td>2003</td>\n",
       "    </tr>\n",
       "    <tr>\n",
       "      <th>25</th>\n",
       "      <td>2003-02-07</td>\n",
       "      <td>22.10</td>\n",
       "      <td>21.44</td>\n",
       "      <td>2003</td>\n",
       "    </tr>\n",
       "    <tr>\n",
       "      <th>26</th>\n",
       "      <td>2003-02-10</td>\n",
       "      <td>21.40</td>\n",
       "      <td>21.40</td>\n",
       "      <td>2003</td>\n",
       "    </tr>\n",
       "    <tr>\n",
       "      <th>27</th>\n",
       "      <td>2003-02-11</td>\n",
       "      <td>21.56</td>\n",
       "      <td>20.78</td>\n",
       "      <td>2003</td>\n",
       "    </tr>\n",
       "    <tr>\n",
       "      <th>28</th>\n",
       "      <td>2003-02-12</td>\n",
       "      <td>20.79</td>\n",
       "      <td>21.03</td>\n",
       "      <td>2003</td>\n",
       "    </tr>\n",
       "    <tr>\n",
       "      <th>29</th>\n",
       "      <td>2003-02-13</td>\n",
       "      <td>20.95</td>\n",
       "      <td>20.06</td>\n",
       "      <td>2003</td>\n",
       "    </tr>\n",
       "    <tr>\n",
       "      <th>30</th>\n",
       "      <td>2003-02-14</td>\n",
       "      <td>19.99</td>\n",
       "      <td>20.06</td>\n",
       "      <td>2003</td>\n",
       "    </tr>\n",
       "    <tr>\n",
       "      <th>31</th>\n",
       "      <td>2003-02-18</td>\n",
       "      <td>20.15</td>\n",
       "      <td>21.39</td>\n",
       "      <td>2003</td>\n",
       "    </tr>\n",
       "    <tr>\n",
       "      <th>32</th>\n",
       "      <td>2003-02-19</td>\n",
       "      <td>21.15</td>\n",
       "      <td>21.19</td>\n",
       "      <td>2003</td>\n",
       "    </tr>\n",
       "    <tr>\n",
       "      <th>33</th>\n",
       "      <td>2003-02-20</td>\n",
       "      <td>21.19</td>\n",
       "      <td>21.36</td>\n",
       "      <td>2003</td>\n",
       "    </tr>\n",
       "    <tr>\n",
       "      <th>34</th>\n",
       "      <td>2003-02-21</td>\n",
       "      <td>21.35</td>\n",
       "      <td>21.78</td>\n",
       "      <td>2003</td>\n",
       "    </tr>\n",
       "    <tr>\n",
       "      <th>35</th>\n",
       "      <td>2003-02-24</td>\n",
       "      <td>21.64</td>\n",
       "      <td>21.78</td>\n",
       "      <td>2003</td>\n",
       "    </tr>\n",
       "    <tr>\n",
       "      <th>36</th>\n",
       "      <td>2003-02-25</td>\n",
       "      <td>21.50</td>\n",
       "      <td>21.88</td>\n",
       "      <td>2003</td>\n",
       "    </tr>\n",
       "    <tr>\n",
       "      <th>37</th>\n",
       "      <td>2003-02-26</td>\n",
       "      <td>21.63</td>\n",
       "      <td>21.64</td>\n",
       "      <td>2003</td>\n",
       "    </tr>\n",
       "    <tr>\n",
       "      <th>38</th>\n",
       "      <td>2003-02-27</td>\n",
       "      <td>21.66</td>\n",
       "      <td>21.62</td>\n",
       "      <td>2003</td>\n",
       "    </tr>\n",
       "    <tr>\n",
       "      <th>39</th>\n",
       "      <td>2003-02-28</td>\n",
       "      <td>21.57</td>\n",
       "      <td>22.01</td>\n",
       "      <td>2003</td>\n",
       "    </tr>\n",
       "  </tbody>\n",
       "</table>\n",
       "</div>"
      ],
      "text/plain": [
       "         date   open  close  year\n",
       "21 2003-02-03  21.94  22.16  2003\n",
       "22 2003-02-04  21.94  22.05  2003\n",
       "23 2003-02-05  22.18  22.17  2003\n",
       "24 2003-02-06  22.16  22.09  2003\n",
       "25 2003-02-07  22.10  21.44  2003\n",
       "26 2003-02-10  21.40  21.40  2003\n",
       "27 2003-02-11  21.56  20.78  2003\n",
       "28 2003-02-12  20.79  21.03  2003\n",
       "29 2003-02-13  20.95  20.06  2003\n",
       "30 2003-02-14  19.99  20.06  2003\n",
       "31 2003-02-18  20.15  21.39  2003\n",
       "32 2003-02-19  21.15  21.19  2003\n",
       "33 2003-02-20  21.19  21.36  2003\n",
       "34 2003-02-21  21.35  21.78  2003\n",
       "35 2003-02-24  21.64  21.78  2003\n",
       "36 2003-02-25  21.50  21.88  2003\n",
       "37 2003-02-26  21.63  21.64  2003\n",
       "38 2003-02-27  21.66  21.62  2003\n",
       "39 2003-02-28  21.57  22.01  2003"
      ]
     },
     "execution_count": 20,
     "metadata": {},
     "output_type": "execute_result"
    }
   ],
   "source": [
    "filtered_df2"
   ]
  },
  {
   "cell_type": "code",
   "execution_count": 21,
   "id": "7be51dcc",
   "metadata": {},
   "outputs": [],
   "source": [
    "filtered_df3 = df[df['open'] > 20.5]"
   ]
  },
  {
   "cell_type": "code",
   "execution_count": 21,
   "id": "465737c6",
   "metadata": {},
   "outputs": [
    {
     "data": {
      "text/html": [
       "<div>\n",
       "<style scoped>\n",
       "    .dataframe tbody tr th:only-of-type {\n",
       "        vertical-align: middle;\n",
       "    }\n",
       "\n",
       "    .dataframe tbody tr th {\n",
       "        vertical-align: top;\n",
       "    }\n",
       "\n",
       "    .dataframe thead th {\n",
       "        text-align: right;\n",
       "    }\n",
       "</style>\n",
       "<table border=\"1\" class=\"dataframe\">\n",
       "  <thead>\n",
       "    <tr style=\"text-align: right;\">\n",
       "      <th></th>\n",
       "      <th>date</th>\n",
       "      <th>open</th>\n",
       "      <th>close</th>\n",
       "      <th>year</th>\n",
       "    </tr>\n",
       "  </thead>\n",
       "  <tbody>\n",
       "    <tr>\n",
       "      <th>3</th>\n",
       "      <td>2003-01-07</td>\n",
       "      <td>20.83</td>\n",
       "      <td>21.55</td>\n",
       "      <td>2003</td>\n",
       "    </tr>\n",
       "    <tr>\n",
       "      <th>4</th>\n",
       "      <td>2003-01-08</td>\n",
       "      <td>21.44</td>\n",
       "      <td>21.02</td>\n",
       "      <td>2003</td>\n",
       "    </tr>\n",
       "    <tr>\n",
       "      <th>5</th>\n",
       "      <td>2003-01-09</td>\n",
       "      <td>21.08</td>\n",
       "      <td>21.45</td>\n",
       "      <td>2003</td>\n",
       "    </tr>\n",
       "    <tr>\n",
       "      <th>6</th>\n",
       "      <td>2003-01-10</td>\n",
       "      <td>20.96</td>\n",
       "      <td>21.32</td>\n",
       "      <td>2003</td>\n",
       "    </tr>\n",
       "    <tr>\n",
       "      <th>7</th>\n",
       "      <td>2003-01-13</td>\n",
       "      <td>21.33</td>\n",
       "      <td>22.04</td>\n",
       "      <td>2003</td>\n",
       "    </tr>\n",
       "    <tr>\n",
       "      <th>...</th>\n",
       "      <td>...</td>\n",
       "      <td>...</td>\n",
       "      <td>...</td>\n",
       "      <td>...</td>\n",
       "    </tr>\n",
       "    <tr>\n",
       "      <th>1253</th>\n",
       "      <td>2007-12-24</td>\n",
       "      <td>91.05</td>\n",
       "      <td>91.01</td>\n",
       "      <td>2007</td>\n",
       "    </tr>\n",
       "    <tr>\n",
       "      <th>1254</th>\n",
       "      <td>2007-12-26</td>\n",
       "      <td>91.48</td>\n",
       "      <td>92.85</td>\n",
       "      <td>2007</td>\n",
       "    </tr>\n",
       "    <tr>\n",
       "      <th>1255</th>\n",
       "      <td>2007-12-27</td>\n",
       "      <td>92.67</td>\n",
       "      <td>94.25</td>\n",
       "      <td>2007</td>\n",
       "    </tr>\n",
       "    <tr>\n",
       "      <th>1256</th>\n",
       "      <td>2007-12-28</td>\n",
       "      <td>95.27</td>\n",
       "      <td>94.45</td>\n",
       "      <td>2007</td>\n",
       "    </tr>\n",
       "    <tr>\n",
       "      <th>1257</th>\n",
       "      <td>2007-12-31</td>\n",
       "      <td>93.81</td>\n",
       "      <td>92.64</td>\n",
       "      <td>2007</td>\n",
       "    </tr>\n",
       "  </tbody>\n",
       "</table>\n",
       "<p>1253 rows × 4 columns</p>\n",
       "</div>"
      ],
      "text/plain": [
       "           date   open  close  year\n",
       "3    2003-01-07  20.83  21.55  2003\n",
       "4    2003-01-08  21.44  21.02  2003\n",
       "5    2003-01-09  21.08  21.45  2003\n",
       "6    2003-01-10  20.96  21.32  2003\n",
       "7    2003-01-13  21.33  22.04  2003\n",
       "...         ...    ...    ...   ...\n",
       "1253 2007-12-24  91.05  91.01  2007\n",
       "1254 2007-12-26  91.48  92.85  2007\n",
       "1255 2007-12-27  92.67  94.25  2007\n",
       "1256 2007-12-28  95.27  94.45  2007\n",
       "1257 2007-12-31  93.81  92.64  2007\n",
       "\n",
       "[1253 rows x 4 columns]"
      ]
     },
     "execution_count": 21,
     "metadata": {},
     "output_type": "execute_result"
    }
   ],
   "source": [
    "filtered_df3 "
   ]
  },
  {
   "cell_type": "code",
   "execution_count": 22,
   "id": "93fb018d",
   "metadata": {},
   "outputs": [],
   "source": [
    "df['open_whole_number'] = df['open'].astype(int)"
   ]
  },
  {
   "cell_type": "code",
   "execution_count": 23,
   "id": "df4d056a",
   "metadata": {},
   "outputs": [
    {
     "data": {
      "text/html": [
       "<div>\n",
       "<style scoped>\n",
       "    .dataframe tbody tr th:only-of-type {\n",
       "        vertical-align: middle;\n",
       "    }\n",
       "\n",
       "    .dataframe tbody tr th {\n",
       "        vertical-align: top;\n",
       "    }\n",
       "\n",
       "    .dataframe thead th {\n",
       "        text-align: right;\n",
       "    }\n",
       "</style>\n",
       "<table border=\"1\" class=\"dataframe\">\n",
       "  <thead>\n",
       "    <tr style=\"text-align: right;\">\n",
       "      <th></th>\n",
       "      <th>date</th>\n",
       "      <th>open</th>\n",
       "      <th>close</th>\n",
       "      <th>year</th>\n",
       "      <th>open_whole_number</th>\n",
       "    </tr>\n",
       "  </thead>\n",
       "  <tbody>\n",
       "    <tr>\n",
       "      <th>0</th>\n",
       "      <td>2003-01-02</td>\n",
       "      <td>19.19</td>\n",
       "      <td>19.57</td>\n",
       "      <td>2003</td>\n",
       "      <td>19</td>\n",
       "    </tr>\n",
       "    <tr>\n",
       "      <th>1</th>\n",
       "      <td>2003-01-03</td>\n",
       "      <td>19.59</td>\n",
       "      <td>20.52</td>\n",
       "      <td>2003</td>\n",
       "      <td>19</td>\n",
       "    </tr>\n",
       "    <tr>\n",
       "      <th>2</th>\n",
       "      <td>2003-01-06</td>\n",
       "      <td>20.40</td>\n",
       "      <td>20.70</td>\n",
       "      <td>2003</td>\n",
       "      <td>20</td>\n",
       "    </tr>\n",
       "    <tr>\n",
       "      <th>3</th>\n",
       "      <td>2003-01-07</td>\n",
       "      <td>20.83</td>\n",
       "      <td>21.55</td>\n",
       "      <td>2003</td>\n",
       "      <td>20</td>\n",
       "    </tr>\n",
       "    <tr>\n",
       "      <th>4</th>\n",
       "      <td>2003-01-08</td>\n",
       "      <td>21.44</td>\n",
       "      <td>21.02</td>\n",
       "      <td>2003</td>\n",
       "      <td>21</td>\n",
       "    </tr>\n",
       "    <tr>\n",
       "      <th>...</th>\n",
       "      <td>...</td>\n",
       "      <td>...</td>\n",
       "      <td>...</td>\n",
       "      <td>...</td>\n",
       "      <td>...</td>\n",
       "    </tr>\n",
       "    <tr>\n",
       "      <th>1253</th>\n",
       "      <td>2007-12-24</td>\n",
       "      <td>91.05</td>\n",
       "      <td>91.01</td>\n",
       "      <td>2007</td>\n",
       "      <td>91</td>\n",
       "    </tr>\n",
       "    <tr>\n",
       "      <th>1254</th>\n",
       "      <td>2007-12-26</td>\n",
       "      <td>91.48</td>\n",
       "      <td>92.85</td>\n",
       "      <td>2007</td>\n",
       "      <td>91</td>\n",
       "    </tr>\n",
       "    <tr>\n",
       "      <th>1255</th>\n",
       "      <td>2007-12-27</td>\n",
       "      <td>92.67</td>\n",
       "      <td>94.25</td>\n",
       "      <td>2007</td>\n",
       "      <td>92</td>\n",
       "    </tr>\n",
       "    <tr>\n",
       "      <th>1256</th>\n",
       "      <td>2007-12-28</td>\n",
       "      <td>95.27</td>\n",
       "      <td>94.45</td>\n",
       "      <td>2007</td>\n",
       "      <td>95</td>\n",
       "    </tr>\n",
       "    <tr>\n",
       "      <th>1257</th>\n",
       "      <td>2007-12-31</td>\n",
       "      <td>93.81</td>\n",
       "      <td>92.64</td>\n",
       "      <td>2007</td>\n",
       "      <td>93</td>\n",
       "    </tr>\n",
       "  </tbody>\n",
       "</table>\n",
       "<p>1258 rows × 5 columns</p>\n",
       "</div>"
      ],
      "text/plain": [
       "           date   open  close  year  open_whole_number\n",
       "0    2003-01-02  19.19  19.57  2003                 19\n",
       "1    2003-01-03  19.59  20.52  2003                 19\n",
       "2    2003-01-06  20.40  20.70  2003                 20\n",
       "3    2003-01-07  20.83  21.55  2003                 20\n",
       "4    2003-01-08  21.44  21.02  2003                 21\n",
       "...         ...    ...    ...   ...                ...\n",
       "1253 2007-12-24  91.05  91.01  2007                 91\n",
       "1254 2007-12-26  91.48  92.85  2007                 91\n",
       "1255 2007-12-27  92.67  94.25  2007                 92\n",
       "1256 2007-12-28  95.27  94.45  2007                 95\n",
       "1257 2007-12-31  93.81  92.64  2007                 93\n",
       "\n",
       "[1258 rows x 5 columns]"
      ]
     },
     "execution_count": 23,
     "metadata": {},
     "output_type": "execute_result"
    }
   ],
   "source": [
    "df"
   ]
  },
  {
   "cell_type": "code",
   "execution_count": 24,
   "id": "45461ad1",
   "metadata": {},
   "outputs": [
    {
     "name": "stdout",
     "output_type": "stream",
     "text": [
      "year\n",
      "2003    252\n",
      "2004    252\n",
      "2005    252\n",
      "2006    251\n",
      "2007    251\n",
      "dtype: int64\n"
     ]
    }
   ],
   "source": [
    "yearly_counts = df.groupby('year').size()\n",
    "\n",
    "print(yearly_counts)"
   ]
  },
  {
   "cell_type": "code",
   "execution_count": 25,
   "id": "09e9aefb",
   "metadata": {},
   "outputs": [],
   "source": [
    "import numpy as np\n",
    "\n",
    "# Replace occurrences of 20 with NaN in the 'open_whole_number' column\n",
    "df.loc[df['open_whole_number'] == 20, 'open_whole_number'] = np.nan"
   ]
  },
  {
   "cell_type": "code",
   "execution_count": 26,
   "id": "1c549b52",
   "metadata": {},
   "outputs": [
    {
     "data": {
      "text/html": [
       "<div>\n",
       "<style scoped>\n",
       "    .dataframe tbody tr th:only-of-type {\n",
       "        vertical-align: middle;\n",
       "    }\n",
       "\n",
       "    .dataframe tbody tr th {\n",
       "        vertical-align: top;\n",
       "    }\n",
       "\n",
       "    .dataframe thead th {\n",
       "        text-align: right;\n",
       "    }\n",
       "</style>\n",
       "<table border=\"1\" class=\"dataframe\">\n",
       "  <thead>\n",
       "    <tr style=\"text-align: right;\">\n",
       "      <th></th>\n",
       "      <th>date</th>\n",
       "      <th>open</th>\n",
       "      <th>close</th>\n",
       "      <th>year</th>\n",
       "      <th>open_whole_number</th>\n",
       "    </tr>\n",
       "  </thead>\n",
       "  <tbody>\n",
       "    <tr>\n",
       "      <th>0</th>\n",
       "      <td>2003-01-02</td>\n",
       "      <td>19.19</td>\n",
       "      <td>19.57</td>\n",
       "      <td>2003</td>\n",
       "      <td>19.0</td>\n",
       "    </tr>\n",
       "    <tr>\n",
       "      <th>1</th>\n",
       "      <td>2003-01-03</td>\n",
       "      <td>19.59</td>\n",
       "      <td>20.52</td>\n",
       "      <td>2003</td>\n",
       "      <td>19.0</td>\n",
       "    </tr>\n",
       "    <tr>\n",
       "      <th>2</th>\n",
       "      <td>2003-01-06</td>\n",
       "      <td>20.40</td>\n",
       "      <td>20.70</td>\n",
       "      <td>2003</td>\n",
       "      <td>NaN</td>\n",
       "    </tr>\n",
       "    <tr>\n",
       "      <th>3</th>\n",
       "      <td>2003-01-07</td>\n",
       "      <td>20.83</td>\n",
       "      <td>21.55</td>\n",
       "      <td>2003</td>\n",
       "      <td>NaN</td>\n",
       "    </tr>\n",
       "    <tr>\n",
       "      <th>4</th>\n",
       "      <td>2003-01-08</td>\n",
       "      <td>21.44</td>\n",
       "      <td>21.02</td>\n",
       "      <td>2003</td>\n",
       "      <td>21.0</td>\n",
       "    </tr>\n",
       "    <tr>\n",
       "      <th>...</th>\n",
       "      <td>...</td>\n",
       "      <td>...</td>\n",
       "      <td>...</td>\n",
       "      <td>...</td>\n",
       "      <td>...</td>\n",
       "    </tr>\n",
       "    <tr>\n",
       "      <th>1253</th>\n",
       "      <td>2007-12-24</td>\n",
       "      <td>91.05</td>\n",
       "      <td>91.01</td>\n",
       "      <td>2007</td>\n",
       "      <td>91.0</td>\n",
       "    </tr>\n",
       "    <tr>\n",
       "      <th>1254</th>\n",
       "      <td>2007-12-26</td>\n",
       "      <td>91.48</td>\n",
       "      <td>92.85</td>\n",
       "      <td>2007</td>\n",
       "      <td>91.0</td>\n",
       "    </tr>\n",
       "    <tr>\n",
       "      <th>1255</th>\n",
       "      <td>2007-12-27</td>\n",
       "      <td>92.67</td>\n",
       "      <td>94.25</td>\n",
       "      <td>2007</td>\n",
       "      <td>92.0</td>\n",
       "    </tr>\n",
       "    <tr>\n",
       "      <th>1256</th>\n",
       "      <td>2007-12-28</td>\n",
       "      <td>95.27</td>\n",
       "      <td>94.45</td>\n",
       "      <td>2007</td>\n",
       "      <td>95.0</td>\n",
       "    </tr>\n",
       "    <tr>\n",
       "      <th>1257</th>\n",
       "      <td>2007-12-31</td>\n",
       "      <td>93.81</td>\n",
       "      <td>92.64</td>\n",
       "      <td>2007</td>\n",
       "      <td>93.0</td>\n",
       "    </tr>\n",
       "  </tbody>\n",
       "</table>\n",
       "<p>1258 rows × 5 columns</p>\n",
       "</div>"
      ],
      "text/plain": [
       "           date   open  close  year  open_whole_number\n",
       "0    2003-01-02  19.19  19.57  2003               19.0\n",
       "1    2003-01-03  19.59  20.52  2003               19.0\n",
       "2    2003-01-06  20.40  20.70  2003                NaN\n",
       "3    2003-01-07  20.83  21.55  2003                NaN\n",
       "4    2003-01-08  21.44  21.02  2003               21.0\n",
       "...         ...    ...    ...   ...                ...\n",
       "1253 2007-12-24  91.05  91.01  2007               91.0\n",
       "1254 2007-12-26  91.48  92.85  2007               91.0\n",
       "1255 2007-12-27  92.67  94.25  2007               92.0\n",
       "1256 2007-12-28  95.27  94.45  2007               95.0\n",
       "1257 2007-12-31  93.81  92.64  2007               93.0\n",
       "\n",
       "[1258 rows x 5 columns]"
      ]
     },
     "execution_count": 26,
     "metadata": {},
     "output_type": "execute_result"
    }
   ],
   "source": [
    "df"
   ]
  },
  {
   "cell_type": "code",
   "execution_count": 27,
   "id": "397b72f4",
   "metadata": {},
   "outputs": [],
   "source": [
    "new_df = df['open_whole_number'].fillna(19.0)\n",
    "#Using inplace=True is useful when you want to modify the original DataFrame directly without creating a copy, which can be more memory-efficient and sometimes faster, especially for large DataFrames. However, it's important to use it with caution, as it can make the code less readable and harder to debug. Additionally, modifying DataFrames in place can sometimes lead to unexpected behavior, especially in complex code or when sharing code with others."
   ]
  },
  {
   "cell_type": "code",
   "execution_count": 28,
   "id": "6e05e61e",
   "metadata": {},
   "outputs": [
    {
     "data": {
      "text/plain": [
       "0       19.0\n",
       "1       19.0\n",
       "2       19.0\n",
       "3       19.0\n",
       "4       21.0\n",
       "        ... \n",
       "1253    91.0\n",
       "1254    91.0\n",
       "1255    92.0\n",
       "1256    95.0\n",
       "1257    93.0\n",
       "Name: open_whole_number, Length: 1258, dtype: float64"
      ]
     },
     "execution_count": 28,
     "metadata": {},
     "output_type": "execute_result"
    }
   ],
   "source": [
    "new_df"
   ]
  },
  {
   "cell_type": "code",
   "execution_count": 28,
   "id": "c2dc404c",
   "metadata": {},
   "outputs": [],
   "source": [
    "df['open_whole_number'].fillna(19.0, inplace=True)"
   ]
  },
  {
   "cell_type": "code",
   "execution_count": 29,
   "id": "f20a8c18",
   "metadata": {},
   "outputs": [
    {
     "data": {
      "text/html": [
       "<div>\n",
       "<style scoped>\n",
       "    .dataframe tbody tr th:only-of-type {\n",
       "        vertical-align: middle;\n",
       "    }\n",
       "\n",
       "    .dataframe tbody tr th {\n",
       "        vertical-align: top;\n",
       "    }\n",
       "\n",
       "    .dataframe thead th {\n",
       "        text-align: right;\n",
       "    }\n",
       "</style>\n",
       "<table border=\"1\" class=\"dataframe\">\n",
       "  <thead>\n",
       "    <tr style=\"text-align: right;\">\n",
       "      <th></th>\n",
       "      <th>date</th>\n",
       "      <th>open</th>\n",
       "      <th>close</th>\n",
       "      <th>year</th>\n",
       "      <th>open_whole_number</th>\n",
       "    </tr>\n",
       "  </thead>\n",
       "  <tbody>\n",
       "    <tr>\n",
       "      <th>0</th>\n",
       "      <td>2003-01-02</td>\n",
       "      <td>19.19</td>\n",
       "      <td>19.57</td>\n",
       "      <td>2003</td>\n",
       "      <td>19.0</td>\n",
       "    </tr>\n",
       "    <tr>\n",
       "      <th>1</th>\n",
       "      <td>2003-01-03</td>\n",
       "      <td>19.59</td>\n",
       "      <td>20.52</td>\n",
       "      <td>2003</td>\n",
       "      <td>19.0</td>\n",
       "    </tr>\n",
       "    <tr>\n",
       "      <th>2</th>\n",
       "      <td>2003-01-06</td>\n",
       "      <td>20.40</td>\n",
       "      <td>20.70</td>\n",
       "      <td>2003</td>\n",
       "      <td>19.0</td>\n",
       "    </tr>\n",
       "    <tr>\n",
       "      <th>3</th>\n",
       "      <td>2003-01-07</td>\n",
       "      <td>20.83</td>\n",
       "      <td>21.55</td>\n",
       "      <td>2003</td>\n",
       "      <td>19.0</td>\n",
       "    </tr>\n",
       "    <tr>\n",
       "      <th>4</th>\n",
       "      <td>2003-01-08</td>\n",
       "      <td>21.44</td>\n",
       "      <td>21.02</td>\n",
       "      <td>2003</td>\n",
       "      <td>21.0</td>\n",
       "    </tr>\n",
       "    <tr>\n",
       "      <th>...</th>\n",
       "      <td>...</td>\n",
       "      <td>...</td>\n",
       "      <td>...</td>\n",
       "      <td>...</td>\n",
       "      <td>...</td>\n",
       "    </tr>\n",
       "    <tr>\n",
       "      <th>1253</th>\n",
       "      <td>2007-12-24</td>\n",
       "      <td>91.05</td>\n",
       "      <td>91.01</td>\n",
       "      <td>2007</td>\n",
       "      <td>91.0</td>\n",
       "    </tr>\n",
       "    <tr>\n",
       "      <th>1254</th>\n",
       "      <td>2007-12-26</td>\n",
       "      <td>91.48</td>\n",
       "      <td>92.85</td>\n",
       "      <td>2007</td>\n",
       "      <td>91.0</td>\n",
       "    </tr>\n",
       "    <tr>\n",
       "      <th>1255</th>\n",
       "      <td>2007-12-27</td>\n",
       "      <td>92.67</td>\n",
       "      <td>94.25</td>\n",
       "      <td>2007</td>\n",
       "      <td>92.0</td>\n",
       "    </tr>\n",
       "    <tr>\n",
       "      <th>1256</th>\n",
       "      <td>2007-12-28</td>\n",
       "      <td>95.27</td>\n",
       "      <td>94.45</td>\n",
       "      <td>2007</td>\n",
       "      <td>95.0</td>\n",
       "    </tr>\n",
       "    <tr>\n",
       "      <th>1257</th>\n",
       "      <td>2007-12-31</td>\n",
       "      <td>93.81</td>\n",
       "      <td>92.64</td>\n",
       "      <td>2007</td>\n",
       "      <td>93.0</td>\n",
       "    </tr>\n",
       "  </tbody>\n",
       "</table>\n",
       "<p>1258 rows × 5 columns</p>\n",
       "</div>"
      ],
      "text/plain": [
       "           date   open  close  year  open_whole_number\n",
       "0    2003-01-02  19.19  19.57  2003               19.0\n",
       "1    2003-01-03  19.59  20.52  2003               19.0\n",
       "2    2003-01-06  20.40  20.70  2003               19.0\n",
       "3    2003-01-07  20.83  21.55  2003               19.0\n",
       "4    2003-01-08  21.44  21.02  2003               21.0\n",
       "...         ...    ...    ...   ...                ...\n",
       "1253 2007-12-24  91.05  91.01  2007               91.0\n",
       "1254 2007-12-26  91.48  92.85  2007               91.0\n",
       "1255 2007-12-27  92.67  94.25  2007               92.0\n",
       "1256 2007-12-28  95.27  94.45  2007               95.0\n",
       "1257 2007-12-31  93.81  92.64  2007               93.0\n",
       "\n",
       "[1258 rows x 5 columns]"
      ]
     },
     "execution_count": 29,
     "metadata": {},
     "output_type": "execute_result"
    }
   ],
   "source": [
    "df"
   ]
  },
  {
   "cell_type": "code",
   "execution_count": 32,
   "id": "08c414a0",
   "metadata": {},
   "outputs": [],
   "source": [
    "mean_value = df['open_whole_number'].mean()\n",
    "df['open_whole_number'].fillna(mean_value, inplace=True)"
   ]
  },
  {
   "cell_type": "code",
   "execution_count": 33,
   "id": "d14dff67",
   "metadata": {},
   "outputs": [],
   "source": [
    "median_value = df['open_whole_number'].median()\n",
    "df['open_whole_number'].fillna(median_value, inplace=True)"
   ]
  },
  {
   "cell_type": "code",
   "execution_count": 34,
   "id": "45d9e6dd",
   "metadata": {},
   "outputs": [],
   "source": [
    "mode_value = df['open_whole_number'].mode()[0]  # mode() returns a Series, so [0] is used to get the first mode\n",
    "df['open_whole_number'].fillna(mode_value, inplace=True)"
   ]
  },
  {
   "cell_type": "code",
   "execution_count": null,
   "id": "85b19df5",
   "metadata": {},
   "outputs": [],
   "source": [
    "df['open1'].fillna(method='ffill')"
   ]
  },
  {
   "cell_type": "code",
   "execution_count": 30,
   "id": "a9f0922a",
   "metadata": {},
   "outputs": [],
   "source": [
    "#ffill (Forward Fill): This method fills missing values with the last known non-null value in the column, moving forward along the column. It replaces missing values with the value that comes immediately before them in the column.\n",
    "\n",
    "#bfill (Backward Fill): This method fills missing values with the next known non-null value in the column, moving backward along the column. It replaces missing values with the value that comes immediately after them in the colum\n"
   ]
  },
  {
   "cell_type": "code",
   "execution_count": 31,
   "id": "ad13d339",
   "metadata": {},
   "outputs": [
    {
     "name": "stdout",
     "output_type": "stream",
     "text": [
      "date                 526 days 23:01:55.134472192\n",
      "open                                   16.110107\n",
      "close                                  16.112273\n",
      "year                                    1.414493\n",
      "open_whole_number                      16.128754\n",
      "dtype: object\n"
     ]
    }
   ],
   "source": [
    "std_dev = df.std()\n",
    "\n",
    "print(std_dev)"
   ]
  },
  {
   "cell_type": "code",
   "execution_count": 32,
   "id": "ad835732",
   "metadata": {},
   "outputs": [
    {
     "data": {
      "text/html": [
       "<div>\n",
       "<style scoped>\n",
       "    .dataframe tbody tr th:only-of-type {\n",
       "        vertical-align: middle;\n",
       "    }\n",
       "\n",
       "    .dataframe tbody tr th {\n",
       "        vertical-align: top;\n",
       "    }\n",
       "\n",
       "    .dataframe thead th {\n",
       "        text-align: right;\n",
       "    }\n",
       "</style>\n",
       "<table border=\"1\" class=\"dataframe\">\n",
       "  <thead>\n",
       "    <tr style=\"text-align: right;\">\n",
       "      <th></th>\n",
       "      <th>open</th>\n",
       "      <th>close</th>\n",
       "      <th>year</th>\n",
       "      <th>open_whole_number</th>\n",
       "    </tr>\n",
       "  </thead>\n",
       "  <tbody>\n",
       "    <tr>\n",
       "      <th>count</th>\n",
       "      <td>1258.000000</td>\n",
       "      <td>1258.000000</td>\n",
       "      <td>1258.000000</td>\n",
       "      <td>1258.000000</td>\n",
       "    </tr>\n",
       "    <tr>\n",
       "      <th>mean</th>\n",
       "      <td>44.785017</td>\n",
       "      <td>44.856720</td>\n",
       "      <td>2004.997615</td>\n",
       "      <td>44.287758</td>\n",
       "    </tr>\n",
       "    <tr>\n",
       "      <th>std</th>\n",
       "      <td>16.110107</td>\n",
       "      <td>16.112273</td>\n",
       "      <td>1.414493</td>\n",
       "      <td>16.128754</td>\n",
       "    </tr>\n",
       "    <tr>\n",
       "      <th>min</th>\n",
       "      <td>19.190000</td>\n",
       "      <td>19.570000</td>\n",
       "      <td>2003.000000</td>\n",
       "      <td>19.000000</td>\n",
       "    </tr>\n",
       "    <tr>\n",
       "      <th>25%</th>\n",
       "      <td>35.410000</td>\n",
       "      <td>35.472500</td>\n",
       "      <td>2004.000000</td>\n",
       "      <td>35.000000</td>\n",
       "    </tr>\n",
       "    <tr>\n",
       "      <th>50%</th>\n",
       "      <td>40.240000</td>\n",
       "      <td>40.225000</td>\n",
       "      <td>2005.000000</td>\n",
       "      <td>40.000000</td>\n",
       "    </tr>\n",
       "    <tr>\n",
       "      <th>75%</th>\n",
       "      <td>48.265000</td>\n",
       "      <td>48.350000</td>\n",
       "      <td>2006.000000</td>\n",
       "      <td>48.000000</td>\n",
       "    </tr>\n",
       "    <tr>\n",
       "      <th>max</th>\n",
       "      <td>96.590000</td>\n",
       "      <td>100.820000</td>\n",
       "      <td>2007.000000</td>\n",
       "      <td>96.000000</td>\n",
       "    </tr>\n",
       "  </tbody>\n",
       "</table>\n",
       "</div>"
      ],
      "text/plain": [
       "              open        close         year  open_whole_number\n",
       "count  1258.000000  1258.000000  1258.000000        1258.000000\n",
       "mean     44.785017    44.856720  2004.997615          44.287758\n",
       "std      16.110107    16.112273     1.414493          16.128754\n",
       "min      19.190000    19.570000  2003.000000          19.000000\n",
       "25%      35.410000    35.472500  2004.000000          35.000000\n",
       "50%      40.240000    40.225000  2005.000000          40.000000\n",
       "75%      48.265000    48.350000  2006.000000          48.000000\n",
       "max      96.590000   100.820000  2007.000000          96.000000"
      ]
     },
     "execution_count": 32,
     "metadata": {},
     "output_type": "execute_result"
    }
   ],
   "source": [
    "df.describe()"
   ]
  },
  {
   "cell_type": "code",
   "execution_count": 33,
   "id": "81577e35",
   "metadata": {},
   "outputs": [],
   "source": [
    "df1 =df.describe()"
   ]
  },
  {
   "cell_type": "code",
   "execution_count": 34,
   "id": "2cf549d8",
   "metadata": {},
   "outputs": [
    {
     "data": {
      "text/html": [
       "<div>\n",
       "<style scoped>\n",
       "    .dataframe tbody tr th:only-of-type {\n",
       "        vertical-align: middle;\n",
       "    }\n",
       "\n",
       "    .dataframe tbody tr th {\n",
       "        vertical-align: top;\n",
       "    }\n",
       "\n",
       "    .dataframe thead th {\n",
       "        text-align: right;\n",
       "    }\n",
       "</style>\n",
       "<table border=\"1\" class=\"dataframe\">\n",
       "  <thead>\n",
       "    <tr style=\"text-align: right;\">\n",
       "      <th></th>\n",
       "      <th>open</th>\n",
       "      <th>close</th>\n",
       "      <th>year</th>\n",
       "      <th>open_whole_number</th>\n",
       "    </tr>\n",
       "  </thead>\n",
       "  <tbody>\n",
       "    <tr>\n",
       "      <th>count</th>\n",
       "      <td>1258.000000</td>\n",
       "      <td>1258.000000</td>\n",
       "      <td>1258.000000</td>\n",
       "      <td>1258.000000</td>\n",
       "    </tr>\n",
       "    <tr>\n",
       "      <th>mean</th>\n",
       "      <td>44.785017</td>\n",
       "      <td>44.856720</td>\n",
       "      <td>2004.997615</td>\n",
       "      <td>44.287758</td>\n",
       "    </tr>\n",
       "    <tr>\n",
       "      <th>std</th>\n",
       "      <td>16.110107</td>\n",
       "      <td>16.112273</td>\n",
       "      <td>1.414493</td>\n",
       "      <td>16.128754</td>\n",
       "    </tr>\n",
       "    <tr>\n",
       "      <th>min</th>\n",
       "      <td>19.190000</td>\n",
       "      <td>19.570000</td>\n",
       "      <td>2003.000000</td>\n",
       "      <td>19.000000</td>\n",
       "    </tr>\n",
       "    <tr>\n",
       "      <th>25%</th>\n",
       "      <td>35.410000</td>\n",
       "      <td>35.472500</td>\n",
       "      <td>2004.000000</td>\n",
       "      <td>35.000000</td>\n",
       "    </tr>\n",
       "    <tr>\n",
       "      <th>50%</th>\n",
       "      <td>40.240000</td>\n",
       "      <td>40.225000</td>\n",
       "      <td>2005.000000</td>\n",
       "      <td>40.000000</td>\n",
       "    </tr>\n",
       "    <tr>\n",
       "      <th>75%</th>\n",
       "      <td>48.265000</td>\n",
       "      <td>48.350000</td>\n",
       "      <td>2006.000000</td>\n",
       "      <td>48.000000</td>\n",
       "    </tr>\n",
       "    <tr>\n",
       "      <th>max</th>\n",
       "      <td>96.590000</td>\n",
       "      <td>100.820000</td>\n",
       "      <td>2007.000000</td>\n",
       "      <td>96.000000</td>\n",
       "    </tr>\n",
       "  </tbody>\n",
       "</table>\n",
       "</div>"
      ],
      "text/plain": [
       "              open        close         year  open_whole_number\n",
       "count  1258.000000  1258.000000  1258.000000        1258.000000\n",
       "mean     44.785017    44.856720  2004.997615          44.287758\n",
       "std      16.110107    16.112273     1.414493          16.128754\n",
       "min      19.190000    19.570000  2003.000000          19.000000\n",
       "25%      35.410000    35.472500  2004.000000          35.000000\n",
       "50%      40.240000    40.225000  2005.000000          40.000000\n",
       "75%      48.265000    48.350000  2006.000000          48.000000\n",
       "max      96.590000   100.820000  2007.000000          96.000000"
      ]
     },
     "execution_count": 34,
     "metadata": {},
     "output_type": "execute_result"
    }
   ],
   "source": [
    "df1"
   ]
  },
  {
   "cell_type": "code",
   "execution_count": 35,
   "id": "988e109a",
   "metadata": {},
   "outputs": [
    {
     "data": {
      "text/plain": [
       "open                 16.110107\n",
       "close                16.112273\n",
       "year                  1.414493\n",
       "open_whole_number    16.128754\n",
       "Name: std, dtype: float64"
      ]
     },
     "execution_count": 35,
     "metadata": {},
     "output_type": "execute_result"
    }
   ],
   "source": [
    "df1.loc['std']"
   ]
  },
  {
   "cell_type": "code",
   "execution_count": 36,
   "id": "86f5cf8f",
   "metadata": {},
   "outputs": [
    {
     "data": {
      "text/html": [
       "<div>\n",
       "<style scoped>\n",
       "    .dataframe tbody tr th:only-of-type {\n",
       "        vertical-align: middle;\n",
       "    }\n",
       "\n",
       "    .dataframe tbody tr th {\n",
       "        vertical-align: top;\n",
       "    }\n",
       "\n",
       "    .dataframe thead th {\n",
       "        text-align: right;\n",
       "    }\n",
       "</style>\n",
       "<table border=\"1\" class=\"dataframe\">\n",
       "  <thead>\n",
       "    <tr style=\"text-align: right;\">\n",
       "      <th></th>\n",
       "      <th>open</th>\n",
       "      <th>close</th>\n",
       "      <th>year</th>\n",
       "      <th>open_whole_number</th>\n",
       "    </tr>\n",
       "  </thead>\n",
       "  <tbody>\n",
       "    <tr>\n",
       "      <th>count</th>\n",
       "      <td>1258.000000</td>\n",
       "      <td>1258.000000</td>\n",
       "      <td>1258.000000</td>\n",
       "      <td>1258.000000</td>\n",
       "    </tr>\n",
       "    <tr>\n",
       "      <th>mean</th>\n",
       "      <td>44.785017</td>\n",
       "      <td>44.856720</td>\n",
       "      <td>2004.997615</td>\n",
       "      <td>44.287758</td>\n",
       "    </tr>\n",
       "    <tr>\n",
       "      <th>std</th>\n",
       "      <td>16.110107</td>\n",
       "      <td>16.112273</td>\n",
       "      <td>1.414493</td>\n",
       "      <td>16.128754</td>\n",
       "    </tr>\n",
       "    <tr>\n",
       "      <th>min</th>\n",
       "      <td>19.190000</td>\n",
       "      <td>19.570000</td>\n",
       "      <td>2003.000000</td>\n",
       "      <td>19.000000</td>\n",
       "    </tr>\n",
       "    <tr>\n",
       "      <th>25%</th>\n",
       "      <td>35.410000</td>\n",
       "      <td>35.472500</td>\n",
       "      <td>2004.000000</td>\n",
       "      <td>35.000000</td>\n",
       "    </tr>\n",
       "    <tr>\n",
       "      <th>50%</th>\n",
       "      <td>40.240000</td>\n",
       "      <td>40.225000</td>\n",
       "      <td>2005.000000</td>\n",
       "      <td>40.000000</td>\n",
       "    </tr>\n",
       "    <tr>\n",
       "      <th>75%</th>\n",
       "      <td>48.265000</td>\n",
       "      <td>48.350000</td>\n",
       "      <td>2006.000000</td>\n",
       "      <td>48.000000</td>\n",
       "    </tr>\n",
       "    <tr>\n",
       "      <th>max</th>\n",
       "      <td>96.590000</td>\n",
       "      <td>100.820000</td>\n",
       "      <td>2007.000000</td>\n",
       "      <td>96.000000</td>\n",
       "    </tr>\n",
       "  </tbody>\n",
       "</table>\n",
       "</div>"
      ],
      "text/plain": [
       "              open        close         year  open_whole_number\n",
       "count  1258.000000  1258.000000  1258.000000        1258.000000\n",
       "mean     44.785017    44.856720  2004.997615          44.287758\n",
       "std      16.110107    16.112273     1.414493          16.128754\n",
       "min      19.190000    19.570000  2003.000000          19.000000\n",
       "25%      35.410000    35.472500  2004.000000          35.000000\n",
       "50%      40.240000    40.225000  2005.000000          40.000000\n",
       "75%      48.265000    48.350000  2006.000000          48.000000\n",
       "max      96.590000   100.820000  2007.000000          96.000000"
      ]
     },
     "execution_count": 36,
     "metadata": {},
     "output_type": "execute_result"
    }
   ],
   "source": [
    "df1"
   ]
  },
  {
   "cell_type": "code",
   "execution_count": 37,
   "id": "0e1ec15e",
   "metadata": {},
   "outputs": [],
   "source": [
    "\n",
    "#iloc integers indexes\n",
    "#name locations"
   ]
  },
  {
   "cell_type": "code",
   "execution_count": 37,
   "id": "0ca00c6c",
   "metadata": {},
   "outputs": [
    {
     "data": {
      "text/html": [
       "<div>\n",
       "<style scoped>\n",
       "    .dataframe tbody tr th:only-of-type {\n",
       "        vertical-align: middle;\n",
       "    }\n",
       "\n",
       "    .dataframe tbody tr th {\n",
       "        vertical-align: top;\n",
       "    }\n",
       "\n",
       "    .dataframe thead th {\n",
       "        text-align: right;\n",
       "    }\n",
       "</style>\n",
       "<table border=\"1\" class=\"dataframe\">\n",
       "  <thead>\n",
       "    <tr style=\"text-align: right;\">\n",
       "      <th></th>\n",
       "      <th>count</th>\n",
       "      <th>mean</th>\n",
       "      <th>std</th>\n",
       "      <th>min</th>\n",
       "      <th>25%</th>\n",
       "      <th>50%</th>\n",
       "      <th>75%</th>\n",
       "      <th>max</th>\n",
       "    </tr>\n",
       "  </thead>\n",
       "  <tbody>\n",
       "    <tr>\n",
       "      <th>open</th>\n",
       "      <td>1258.0</td>\n",
       "      <td>44.785017</td>\n",
       "      <td>16.110107</td>\n",
       "      <td>19.19</td>\n",
       "      <td>35.4100</td>\n",
       "      <td>40.240</td>\n",
       "      <td>48.265</td>\n",
       "      <td>96.59</td>\n",
       "    </tr>\n",
       "    <tr>\n",
       "      <th>close</th>\n",
       "      <td>1258.0</td>\n",
       "      <td>44.856720</td>\n",
       "      <td>16.112273</td>\n",
       "      <td>19.57</td>\n",
       "      <td>35.4725</td>\n",
       "      <td>40.225</td>\n",
       "      <td>48.350</td>\n",
       "      <td>100.82</td>\n",
       "    </tr>\n",
       "    <tr>\n",
       "      <th>year</th>\n",
       "      <td>1258.0</td>\n",
       "      <td>2004.997615</td>\n",
       "      <td>1.414493</td>\n",
       "      <td>2003.00</td>\n",
       "      <td>2004.0000</td>\n",
       "      <td>2005.000</td>\n",
       "      <td>2006.000</td>\n",
       "      <td>2007.00</td>\n",
       "    </tr>\n",
       "    <tr>\n",
       "      <th>open_whole_number</th>\n",
       "      <td>1258.0</td>\n",
       "      <td>44.287758</td>\n",
       "      <td>16.128754</td>\n",
       "      <td>19.00</td>\n",
       "      <td>35.0000</td>\n",
       "      <td>40.000</td>\n",
       "      <td>48.000</td>\n",
       "      <td>96.00</td>\n",
       "    </tr>\n",
       "  </tbody>\n",
       "</table>\n",
       "</div>"
      ],
      "text/plain": [
       "                    count         mean        std      min        25%  \\\n",
       "open               1258.0    44.785017  16.110107    19.19    35.4100   \n",
       "close              1258.0    44.856720  16.112273    19.57    35.4725   \n",
       "year               1258.0  2004.997615   1.414493  2003.00  2004.0000   \n",
       "open_whole_number  1258.0    44.287758  16.128754    19.00    35.0000   \n",
       "\n",
       "                        50%       75%      max  \n",
       "open                 40.240    48.265    96.59  \n",
       "close                40.225    48.350   100.82  \n",
       "year               2005.000  2006.000  2007.00  \n",
       "open_whole_number    40.000    48.000    96.00  "
      ]
     },
     "execution_count": 37,
     "metadata": {},
     "output_type": "execute_result"
    }
   ],
   "source": [
    "ss =df1.T\n",
    "ss"
   ]
  },
  {
   "cell_type": "code",
   "execution_count": 38,
   "id": "c4253aba",
   "metadata": {},
   "outputs": [
    {
     "data": {
      "text/html": [
       "<div>\n",
       "<style scoped>\n",
       "    .dataframe tbody tr th:only-of-type {\n",
       "        vertical-align: middle;\n",
       "    }\n",
       "\n",
       "    .dataframe tbody tr th {\n",
       "        vertical-align: top;\n",
       "    }\n",
       "\n",
       "    .dataframe thead th {\n",
       "        text-align: right;\n",
       "    }\n",
       "</style>\n",
       "<table border=\"1\" class=\"dataframe\">\n",
       "  <thead>\n",
       "    <tr style=\"text-align: right;\">\n",
       "      <th></th>\n",
       "      <th>count</th>\n",
       "      <th>mean</th>\n",
       "      <th>std</th>\n",
       "      <th>min</th>\n",
       "      <th>25%</th>\n",
       "      <th>50%</th>\n",
       "      <th>75%</th>\n",
       "      <th>max</th>\n",
       "    </tr>\n",
       "  </thead>\n",
       "  <tbody>\n",
       "    <tr>\n",
       "      <th>open</th>\n",
       "      <td>1258.0</td>\n",
       "      <td>44.785017</td>\n",
       "      <td>16.110107</td>\n",
       "      <td>19.19</td>\n",
       "      <td>35.4100</td>\n",
       "      <td>40.240</td>\n",
       "      <td>48.265</td>\n",
       "      <td>96.59</td>\n",
       "    </tr>\n",
       "    <tr>\n",
       "      <th>close</th>\n",
       "      <td>1258.0</td>\n",
       "      <td>44.856720</td>\n",
       "      <td>16.112273</td>\n",
       "      <td>19.57</td>\n",
       "      <td>35.4725</td>\n",
       "      <td>40.225</td>\n",
       "      <td>48.350</td>\n",
       "      <td>100.82</td>\n",
       "    </tr>\n",
       "  </tbody>\n",
       "</table>\n",
       "</div>"
      ],
      "text/plain": [
       "        count       mean        std    min      25%     50%     75%     max\n",
       "open   1258.0  44.785017  16.110107  19.19  35.4100  40.240  48.265   96.59\n",
       "close  1258.0  44.856720  16.112273  19.57  35.4725  40.225  48.350  100.82"
      ]
     },
     "execution_count": 38,
     "metadata": {},
     "output_type": "execute_result"
    }
   ],
   "source": [
    "ss.loc[[\"open\",\"close\"]]"
   ]
  },
  {
   "cell_type": "code",
   "execution_count": 39,
   "id": "85fcf541",
   "metadata": {},
   "outputs": [
    {
     "data": {
      "text/html": [
       "<div>\n",
       "<style scoped>\n",
       "    .dataframe tbody tr th:only-of-type {\n",
       "        vertical-align: middle;\n",
       "    }\n",
       "\n",
       "    .dataframe tbody tr th {\n",
       "        vertical-align: top;\n",
       "    }\n",
       "\n",
       "    .dataframe thead th {\n",
       "        text-align: right;\n",
       "    }\n",
       "</style>\n",
       "<table border=\"1\" class=\"dataframe\">\n",
       "  <thead>\n",
       "    <tr style=\"text-align: right;\">\n",
       "      <th></th>\n",
       "      <th>open</th>\n",
       "      <th>close</th>\n",
       "      <th>year</th>\n",
       "      <th>open_whole_number</th>\n",
       "    </tr>\n",
       "  </thead>\n",
       "  <tbody>\n",
       "    <tr>\n",
       "      <th>count</th>\n",
       "      <td>1258.000000</td>\n",
       "      <td>1258.000000</td>\n",
       "      <td>1258.000000</td>\n",
       "      <td>1258.000000</td>\n",
       "    </tr>\n",
       "    <tr>\n",
       "      <th>mean</th>\n",
       "      <td>44.785017</td>\n",
       "      <td>44.856720</td>\n",
       "      <td>2004.997615</td>\n",
       "      <td>44.287758</td>\n",
       "    </tr>\n",
       "    <tr>\n",
       "      <th>std</th>\n",
       "      <td>16.110107</td>\n",
       "      <td>16.112273</td>\n",
       "      <td>1.414493</td>\n",
       "      <td>16.128754</td>\n",
       "    </tr>\n",
       "    <tr>\n",
       "      <th>min</th>\n",
       "      <td>19.190000</td>\n",
       "      <td>19.570000</td>\n",
       "      <td>2003.000000</td>\n",
       "      <td>19.000000</td>\n",
       "    </tr>\n",
       "    <tr>\n",
       "      <th>25%</th>\n",
       "      <td>35.410000</td>\n",
       "      <td>35.472500</td>\n",
       "      <td>2004.000000</td>\n",
       "      <td>35.000000</td>\n",
       "    </tr>\n",
       "    <tr>\n",
       "      <th>50%</th>\n",
       "      <td>40.240000</td>\n",
       "      <td>40.225000</td>\n",
       "      <td>2005.000000</td>\n",
       "      <td>40.000000</td>\n",
       "    </tr>\n",
       "    <tr>\n",
       "      <th>75%</th>\n",
       "      <td>48.265000</td>\n",
       "      <td>48.350000</td>\n",
       "      <td>2006.000000</td>\n",
       "      <td>48.000000</td>\n",
       "    </tr>\n",
       "    <tr>\n",
       "      <th>max</th>\n",
       "      <td>96.590000</td>\n",
       "      <td>100.820000</td>\n",
       "      <td>2007.000000</td>\n",
       "      <td>96.000000</td>\n",
       "    </tr>\n",
       "  </tbody>\n",
       "</table>\n",
       "</div>"
      ],
      "text/plain": [
       "              open        close         year  open_whole_number\n",
       "count  1258.000000  1258.000000  1258.000000        1258.000000\n",
       "mean     44.785017    44.856720  2004.997615          44.287758\n",
       "std      16.110107    16.112273     1.414493          16.128754\n",
       "min      19.190000    19.570000  2003.000000          19.000000\n",
       "25%      35.410000    35.472500  2004.000000          35.000000\n",
       "50%      40.240000    40.225000  2005.000000          40.000000\n",
       "75%      48.265000    48.350000  2006.000000          48.000000\n",
       "max      96.590000   100.820000  2007.000000          96.000000"
      ]
     },
     "execution_count": 39,
     "metadata": {},
     "output_type": "execute_result"
    }
   ],
   "source": [
    "df1"
   ]
  },
  {
   "cell_type": "code",
   "execution_count": 40,
   "id": "e2450504",
   "metadata": {},
   "outputs": [
    {
     "data": {
      "text/html": [
       "<div>\n",
       "<style scoped>\n",
       "    .dataframe tbody tr th:only-of-type {\n",
       "        vertical-align: middle;\n",
       "    }\n",
       "\n",
       "    .dataframe tbody tr th {\n",
       "        vertical-align: top;\n",
       "    }\n",
       "\n",
       "    .dataframe thead th {\n",
       "        text-align: right;\n",
       "    }\n",
       "</style>\n",
       "<table border=\"1\" class=\"dataframe\">\n",
       "  <thead>\n",
       "    <tr style=\"text-align: right;\">\n",
       "      <th></th>\n",
       "      <th>open</th>\n",
       "      <th>close</th>\n",
       "      <th>year</th>\n",
       "      <th>open_whole_number</th>\n",
       "    </tr>\n",
       "  </thead>\n",
       "  <tbody>\n",
       "    <tr>\n",
       "      <th>count</th>\n",
       "      <td>1258.000000</td>\n",
       "      <td>1258.000000</td>\n",
       "      <td>1258.000000</td>\n",
       "      <td>1258.000000</td>\n",
       "    </tr>\n",
       "    <tr>\n",
       "      <th>mean</th>\n",
       "      <td>44.785017</td>\n",
       "      <td>44.856720</td>\n",
       "      <td>2004.997615</td>\n",
       "      <td>44.287758</td>\n",
       "    </tr>\n",
       "    <tr>\n",
       "      <th>std</th>\n",
       "      <td>16.110107</td>\n",
       "      <td>16.112273</td>\n",
       "      <td>1.414493</td>\n",
       "      <td>16.128754</td>\n",
       "    </tr>\n",
       "    <tr>\n",
       "      <th>min</th>\n",
       "      <td>19.190000</td>\n",
       "      <td>19.570000</td>\n",
       "      <td>2003.000000</td>\n",
       "      <td>19.000000</td>\n",
       "    </tr>\n",
       "    <tr>\n",
       "      <th>25%</th>\n",
       "      <td>35.410000</td>\n",
       "      <td>35.472500</td>\n",
       "      <td>2004.000000</td>\n",
       "      <td>35.000000</td>\n",
       "    </tr>\n",
       "  </tbody>\n",
       "</table>\n",
       "</div>"
      ],
      "text/plain": [
       "              open        close         year  open_whole_number\n",
       "count  1258.000000  1258.000000  1258.000000        1258.000000\n",
       "mean     44.785017    44.856720  2004.997615          44.287758\n",
       "std      16.110107    16.112273     1.414493          16.128754\n",
       "min      19.190000    19.570000  2003.000000          19.000000\n",
       "25%      35.410000    35.472500  2004.000000          35.000000"
      ]
     },
     "execution_count": 40,
     "metadata": {},
     "output_type": "execute_result"
    }
   ],
   "source": [
    "df1[0:5]"
   ]
  },
  {
   "cell_type": "code",
   "execution_count": 41,
   "id": "02dc6ceb",
   "metadata": {},
   "outputs": [
    {
     "data": {
      "text/html": [
       "<div>\n",
       "<style scoped>\n",
       "    .dataframe tbody tr th:only-of-type {\n",
       "        vertical-align: middle;\n",
       "    }\n",
       "\n",
       "    .dataframe tbody tr th {\n",
       "        vertical-align: top;\n",
       "    }\n",
       "\n",
       "    .dataframe thead th {\n",
       "        text-align: right;\n",
       "    }\n",
       "</style>\n",
       "<table border=\"1\" class=\"dataframe\">\n",
       "  <thead>\n",
       "    <tr style=\"text-align: right;\">\n",
       "      <th></th>\n",
       "      <th>count</th>\n",
       "      <th>mean</th>\n",
       "      <th>std</th>\n",
       "      <th>min</th>\n",
       "      <th>25%</th>\n",
       "      <th>50%</th>\n",
       "      <th>75%</th>\n",
       "      <th>max</th>\n",
       "    </tr>\n",
       "  </thead>\n",
       "  <tbody>\n",
       "    <tr>\n",
       "      <th>open</th>\n",
       "      <td>1258.0</td>\n",
       "      <td>44.785017</td>\n",
       "      <td>16.110107</td>\n",
       "      <td>19.19</td>\n",
       "      <td>35.4100</td>\n",
       "      <td>40.240</td>\n",
       "      <td>48.265</td>\n",
       "      <td>96.59</td>\n",
       "    </tr>\n",
       "    <tr>\n",
       "      <th>close</th>\n",
       "      <td>1258.0</td>\n",
       "      <td>44.856720</td>\n",
       "      <td>16.112273</td>\n",
       "      <td>19.57</td>\n",
       "      <td>35.4725</td>\n",
       "      <td>40.225</td>\n",
       "      <td>48.350</td>\n",
       "      <td>100.82</td>\n",
       "    </tr>\n",
       "    <tr>\n",
       "      <th>year</th>\n",
       "      <td>1258.0</td>\n",
       "      <td>2004.997615</td>\n",
       "      <td>1.414493</td>\n",
       "      <td>2003.00</td>\n",
       "      <td>2004.0000</td>\n",
       "      <td>2005.000</td>\n",
       "      <td>2006.000</td>\n",
       "      <td>2007.00</td>\n",
       "    </tr>\n",
       "    <tr>\n",
       "      <th>open_whole_number</th>\n",
       "      <td>1258.0</td>\n",
       "      <td>44.287758</td>\n",
       "      <td>16.128754</td>\n",
       "      <td>19.00</td>\n",
       "      <td>35.0000</td>\n",
       "      <td>40.000</td>\n",
       "      <td>48.000</td>\n",
       "      <td>96.00</td>\n",
       "    </tr>\n",
       "  </tbody>\n",
       "</table>\n",
       "</div>"
      ],
      "text/plain": [
       "                    count         mean        std      min        25%  \\\n",
       "open               1258.0    44.785017  16.110107    19.19    35.4100   \n",
       "close              1258.0    44.856720  16.112273    19.57    35.4725   \n",
       "year               1258.0  2004.997615   1.414493  2003.00  2004.0000   \n",
       "open_whole_number  1258.0    44.287758  16.128754    19.00    35.0000   \n",
       "\n",
       "                        50%       75%      max  \n",
       "open                 40.240    48.265    96.59  \n",
       "close                40.225    48.350   100.82  \n",
       "year               2005.000  2006.000  2007.00  \n",
       "open_whole_number    40.000    48.000    96.00  "
      ]
     },
     "execution_count": 41,
     "metadata": {},
     "output_type": "execute_result"
    }
   ],
   "source": [
    "ss"
   ]
  },
  {
   "cell_type": "code",
   "execution_count": 42,
   "id": "079901f2",
   "metadata": {},
   "outputs": [
    {
     "data": {
      "text/html": [
       "<div>\n",
       "<style scoped>\n",
       "    .dataframe tbody tr th:only-of-type {\n",
       "        vertical-align: middle;\n",
       "    }\n",
       "\n",
       "    .dataframe tbody tr th {\n",
       "        vertical-align: top;\n",
       "    }\n",
       "\n",
       "    .dataframe thead th {\n",
       "        text-align: right;\n",
       "    }\n",
       "</style>\n",
       "<table border=\"1\" class=\"dataframe\">\n",
       "  <thead>\n",
       "    <tr style=\"text-align: right;\">\n",
       "      <th></th>\n",
       "      <th>count</th>\n",
       "      <th>mean</th>\n",
       "      <th>std</th>\n",
       "      <th>min</th>\n",
       "      <th>25%</th>\n",
       "      <th>50%</th>\n",
       "      <th>75%</th>\n",
       "    </tr>\n",
       "    <tr>\n",
       "      <th>max</th>\n",
       "      <th></th>\n",
       "      <th></th>\n",
       "      <th></th>\n",
       "      <th></th>\n",
       "      <th></th>\n",
       "      <th></th>\n",
       "      <th></th>\n",
       "    </tr>\n",
       "  </thead>\n",
       "  <tbody>\n",
       "    <tr>\n",
       "      <th>96.59</th>\n",
       "      <td>1258.0</td>\n",
       "      <td>44.785017</td>\n",
       "      <td>16.110107</td>\n",
       "      <td>19.19</td>\n",
       "      <td>35.4100</td>\n",
       "      <td>40.240</td>\n",
       "      <td>48.265</td>\n",
       "    </tr>\n",
       "    <tr>\n",
       "      <th>100.82</th>\n",
       "      <td>1258.0</td>\n",
       "      <td>44.856720</td>\n",
       "      <td>16.112273</td>\n",
       "      <td>19.57</td>\n",
       "      <td>35.4725</td>\n",
       "      <td>40.225</td>\n",
       "      <td>48.350</td>\n",
       "    </tr>\n",
       "    <tr>\n",
       "      <th>2007.00</th>\n",
       "      <td>1258.0</td>\n",
       "      <td>2004.997615</td>\n",
       "      <td>1.414493</td>\n",
       "      <td>2003.00</td>\n",
       "      <td>2004.0000</td>\n",
       "      <td>2005.000</td>\n",
       "      <td>2006.000</td>\n",
       "    </tr>\n",
       "    <tr>\n",
       "      <th>96.00</th>\n",
       "      <td>1258.0</td>\n",
       "      <td>44.287758</td>\n",
       "      <td>16.128754</td>\n",
       "      <td>19.00</td>\n",
       "      <td>35.0000</td>\n",
       "      <td>40.000</td>\n",
       "      <td>48.000</td>\n",
       "    </tr>\n",
       "  </tbody>\n",
       "</table>\n",
       "</div>"
      ],
      "text/plain": [
       "          count         mean        std      min        25%       50%  \\\n",
       "max                                                                     \n",
       "96.59    1258.0    44.785017  16.110107    19.19    35.4100    40.240   \n",
       "100.82   1258.0    44.856720  16.112273    19.57    35.4725    40.225   \n",
       "2007.00  1258.0  2004.997615   1.414493  2003.00  2004.0000  2005.000   \n",
       "96.00    1258.0    44.287758  16.128754    19.00    35.0000    40.000   \n",
       "\n",
       "              75%  \n",
       "max                \n",
       "96.59      48.265  \n",
       "100.82     48.350  \n",
       "2007.00  2006.000  \n",
       "96.00      48.000  "
      ]
     },
     "execution_count": 42,
     "metadata": {},
     "output_type": "execute_result"
    }
   ],
   "source": [
    "ss.set_index('max')\n",
    "#This means that the column named 'max' will become the new index of the DataFrame. "
   ]
  },
  {
   "cell_type": "code",
   "execution_count": 43,
   "id": "11d695fc",
   "metadata": {},
   "outputs": [
    {
     "data": {
      "text/html": [
       "<div>\n",
       "<style scoped>\n",
       "    .dataframe tbody tr th:only-of-type {\n",
       "        vertical-align: middle;\n",
       "    }\n",
       "\n",
       "    .dataframe tbody tr th {\n",
       "        vertical-align: top;\n",
       "    }\n",
       "\n",
       "    .dataframe thead th {\n",
       "        text-align: right;\n",
       "    }\n",
       "</style>\n",
       "<table border=\"1\" class=\"dataframe\">\n",
       "  <thead>\n",
       "    <tr style=\"text-align: right;\">\n",
       "      <th></th>\n",
       "      <th>count</th>\n",
       "      <th>mean</th>\n",
       "      <th>std</th>\n",
       "      <th>min</th>\n",
       "      <th>25%</th>\n",
       "      <th>50%</th>\n",
       "      <th>75%</th>\n",
       "      <th>max</th>\n",
       "    </tr>\n",
       "  </thead>\n",
       "  <tbody>\n",
       "    <tr>\n",
       "      <th>open</th>\n",
       "      <td>1258.0</td>\n",
       "      <td>44.785017</td>\n",
       "      <td>16.110107</td>\n",
       "      <td>19.19</td>\n",
       "      <td>35.4100</td>\n",
       "      <td>40.240</td>\n",
       "      <td>48.265</td>\n",
       "      <td>96.59</td>\n",
       "    </tr>\n",
       "    <tr>\n",
       "      <th>close</th>\n",
       "      <td>1258.0</td>\n",
       "      <td>44.856720</td>\n",
       "      <td>16.112273</td>\n",
       "      <td>19.57</td>\n",
       "      <td>35.4725</td>\n",
       "      <td>40.225</td>\n",
       "      <td>48.350</td>\n",
       "      <td>100.82</td>\n",
       "    </tr>\n",
       "    <tr>\n",
       "      <th>year</th>\n",
       "      <td>1258.0</td>\n",
       "      <td>2004.997615</td>\n",
       "      <td>1.414493</td>\n",
       "      <td>2003.00</td>\n",
       "      <td>2004.0000</td>\n",
       "      <td>2005.000</td>\n",
       "      <td>2006.000</td>\n",
       "      <td>2007.00</td>\n",
       "    </tr>\n",
       "    <tr>\n",
       "      <th>open_whole_number</th>\n",
       "      <td>1258.0</td>\n",
       "      <td>44.287758</td>\n",
       "      <td>16.128754</td>\n",
       "      <td>19.00</td>\n",
       "      <td>35.0000</td>\n",
       "      <td>40.000</td>\n",
       "      <td>48.000</td>\n",
       "      <td>96.00</td>\n",
       "    </tr>\n",
       "  </tbody>\n",
       "</table>\n",
       "</div>"
      ],
      "text/plain": [
       "                    count         mean        std      min        25%  \\\n",
       "open               1258.0    44.785017  16.110107    19.19    35.4100   \n",
       "close              1258.0    44.856720  16.112273    19.57    35.4725   \n",
       "year               1258.0  2004.997615   1.414493  2003.00  2004.0000   \n",
       "open_whole_number  1258.0    44.287758  16.128754    19.00    35.0000   \n",
       "\n",
       "                        50%       75%      max  \n",
       "open                 40.240    48.265    96.59  \n",
       "close                40.225    48.350   100.82  \n",
       "year               2005.000  2006.000  2007.00  \n",
       "open_whole_number    40.000    48.000    96.00  "
      ]
     },
     "execution_count": 43,
     "metadata": {},
     "output_type": "execute_result"
    }
   ],
   "source": [
    "ss"
   ]
  },
  {
   "cell_type": "code",
   "execution_count": 44,
   "id": "10620c36",
   "metadata": {},
   "outputs": [
    {
     "data": {
      "text/html": [
       "<div>\n",
       "<style scoped>\n",
       "    .dataframe tbody tr th:only-of-type {\n",
       "        vertical-align: middle;\n",
       "    }\n",
       "\n",
       "    .dataframe tbody tr th {\n",
       "        vertical-align: top;\n",
       "    }\n",
       "\n",
       "    .dataframe thead th {\n",
       "        text-align: right;\n",
       "    }\n",
       "</style>\n",
       "<table border=\"1\" class=\"dataframe\">\n",
       "  <thead>\n",
       "    <tr style=\"text-align: right;\">\n",
       "      <th></th>\n",
       "      <th>min</th>\n",
       "      <th>25%</th>\n",
       "    </tr>\n",
       "  </thead>\n",
       "  <tbody>\n",
       "    <tr>\n",
       "      <th>close</th>\n",
       "      <td>19.57</td>\n",
       "      <td>35.4725</td>\n",
       "    </tr>\n",
       "    <tr>\n",
       "      <th>year</th>\n",
       "      <td>2003.00</td>\n",
       "      <td>2004.0000</td>\n",
       "    </tr>\n",
       "  </tbody>\n",
       "</table>\n",
       "</div>"
      ],
      "text/plain": [
       "           min        25%\n",
       "close    19.57    35.4725\n",
       "year   2003.00  2004.0000"
      ]
     },
     "execution_count": 44,
     "metadata": {},
     "output_type": "execute_result"
    }
   ],
   "source": [
    "ss.iloc[1:3,3:5]"
   ]
  },
  {
   "cell_type": "code",
   "execution_count": 45,
   "id": "5f6b03de",
   "metadata": {},
   "outputs": [],
   "source": [
    "data = [\n",
    "  {\n",
    "    \"name\": \"Meowsy\",\n",
    "    \"species\" : \"cat\",\n",
    "    \"foods\": {\n",
    "      \"likes\": [\"tuna\", \"catnip\"],\n",
    "      \"dislikes\": [\"ham\", \"zucchini\"]\n",
    "    }\n",
    "  },\n",
    "  {\n",
    "    \"name\": \"Barky\",\n",
    "    \"species\" : \"dog\",\n",
    "    \"foods\": {\n",
    "      \"likes\": [\"bones\", \"carrots\"],\n",
    "      \"dislikes\": [\"tuna\"]\n",
    "    }\n",
    "  },\n",
    "  {\n",
    "    \"name\": \"Purrpaws\",\n",
    "    \"species\" : \"cat\",\n",
    "    \"foods\": {\n",
    "      \"likes\": [\"mice\"],\n",
    "      \"dislikes\": [\"cookies\"]\n",
    "    }\n",
    "  }\n",
    "]"
   ]
  },
  {
   "cell_type": "code",
   "execution_count": 46,
   "id": "12f400e9",
   "metadata": {},
   "outputs": [],
   "source": [
    "kk =pd.DataFrame(data)"
   ]
  },
  {
   "cell_type": "code",
   "execution_count": 47,
   "id": "0220224c",
   "metadata": {},
   "outputs": [
    {
     "data": {
      "text/html": [
       "<div>\n",
       "<style scoped>\n",
       "    .dataframe tbody tr th:only-of-type {\n",
       "        vertical-align: middle;\n",
       "    }\n",
       "\n",
       "    .dataframe tbody tr th {\n",
       "        vertical-align: top;\n",
       "    }\n",
       "\n",
       "    .dataframe thead th {\n",
       "        text-align: right;\n",
       "    }\n",
       "</style>\n",
       "<table border=\"1\" class=\"dataframe\">\n",
       "  <thead>\n",
       "    <tr style=\"text-align: right;\">\n",
       "      <th></th>\n",
       "      <th>name</th>\n",
       "      <th>species</th>\n",
       "      <th>foods</th>\n",
       "    </tr>\n",
       "  </thead>\n",
       "  <tbody>\n",
       "    <tr>\n",
       "      <th>0</th>\n",
       "      <td>Meowsy</td>\n",
       "      <td>cat</td>\n",
       "      <td>{'likes': ['tuna', 'catnip'], 'dislikes': ['ha...</td>\n",
       "    </tr>\n",
       "    <tr>\n",
       "      <th>1</th>\n",
       "      <td>Barky</td>\n",
       "      <td>dog</td>\n",
       "      <td>{'likes': ['bones', 'carrots'], 'dislikes': ['...</td>\n",
       "    </tr>\n",
       "    <tr>\n",
       "      <th>2</th>\n",
       "      <td>Purrpaws</td>\n",
       "      <td>cat</td>\n",
       "      <td>{'likes': ['mice'], 'dislikes': ['cookies']}</td>\n",
       "    </tr>\n",
       "  </tbody>\n",
       "</table>\n",
       "</div>"
      ],
      "text/plain": [
       "       name species                                              foods\n",
       "0    Meowsy     cat  {'likes': ['tuna', 'catnip'], 'dislikes': ['ha...\n",
       "1     Barky     dog  {'likes': ['bones', 'carrots'], 'dislikes': ['...\n",
       "2  Purrpaws     cat       {'likes': ['mice'], 'dislikes': ['cookies']}"
      ]
     },
     "execution_count": 47,
     "metadata": {},
     "output_type": "execute_result"
    }
   ],
   "source": [
    "kk"
   ]
  },
  {
   "cell_type": "code",
   "execution_count": 48,
   "id": "e07315d1",
   "metadata": {},
   "outputs": [
    {
     "data": {
      "text/plain": [
       "0    {'likes': ['tuna', 'catnip'], 'dislikes': ['ha...\n",
       "1    {'likes': ['bones', 'carrots'], 'dislikes': ['...\n",
       "2         {'likes': ['mice'], 'dislikes': ['cookies']}\n",
       "Name: foods, dtype: object"
      ]
     },
     "execution_count": 48,
     "metadata": {},
     "output_type": "execute_result"
    }
   ],
   "source": [
    "kk['foods']"
   ]
  },
  {
   "cell_type": "code",
   "execution_count": 49,
   "id": "4cd3b933",
   "metadata": {},
   "outputs": [
    {
     "name": "stdout",
     "output_type": "stream",
     "text": [
      "3\n"
     ]
    }
   ],
   "source": [
    "print(len(kk['foods']))"
   ]
  },
  {
   "cell_type": "code",
   "execution_count": 50,
   "id": "c2bb250d",
   "metadata": {},
   "outputs": [
    {
     "data": {
      "text/plain": [
       "{'likes': ['tuna', 'catnip'], 'dislikes': ['ham', 'zucchini']}"
      ]
     },
     "execution_count": 50,
     "metadata": {},
     "output_type": "execute_result"
    }
   ],
   "source": [
    "kk['foods'][0]"
   ]
  },
  {
   "cell_type": "code",
   "execution_count": 51,
   "id": "ae2a8ff3",
   "metadata": {},
   "outputs": [
    {
     "data": {
      "text/plain": [
       "{'likes': ['mice'], 'dislikes': ['cookies']}"
      ]
     },
     "execution_count": 51,
     "metadata": {},
     "output_type": "execute_result"
    }
   ],
   "source": [
    "kk['foods'][2]"
   ]
  },
  {
   "cell_type": "code",
   "execution_count": 52,
   "id": "14d166a6",
   "metadata": {},
   "outputs": [
    {
     "data": {
      "text/plain": [
       "['ham', 'zucchini']"
      ]
     },
     "execution_count": 52,
     "metadata": {},
     "output_type": "execute_result"
    }
   ],
   "source": [
    "kk['foods'][0]['dislikes']"
   ]
  },
  {
   "cell_type": "code",
   "execution_count": 53,
   "id": "bff89657",
   "metadata": {},
   "outputs": [
    {
     "data": {
      "text/plain": [
       "3"
      ]
     },
     "execution_count": 53,
     "metadata": {},
     "output_type": "execute_result"
    }
   ],
   "source": [
    "len(kk)"
   ]
  },
  {
   "cell_type": "code",
   "execution_count": 54,
   "id": "aa5dfb2b",
   "metadata": {},
   "outputs": [
    {
     "data": {
      "text/plain": [
       "['tuna', 'catnip']"
      ]
     },
     "execution_count": 54,
     "metadata": {},
     "output_type": "execute_result"
    }
   ],
   "source": [
    "kk['foods'][0]['likes']"
   ]
  },
  {
   "cell_type": "code",
   "execution_count": 55,
   "id": "6068cb13",
   "metadata": {},
   "outputs": [
    {
     "data": {
      "text/plain": [
       "['tuna', 'catnip']"
      ]
     },
     "execution_count": 55,
     "metadata": {},
     "output_type": "execute_result"
    }
   ],
   "source": [
    "kk['foods'][0]['likes']"
   ]
  },
  {
   "cell_type": "code",
   "execution_count": 56,
   "id": "ab37c02f",
   "metadata": {},
   "outputs": [
    {
     "data": {
      "text/plain": [
       "['bones', 'carrots']"
      ]
     },
     "execution_count": 56,
     "metadata": {},
     "output_type": "execute_result"
    }
   ],
   "source": [
    "kk['foods'][1]['likes']"
   ]
  },
  {
   "cell_type": "code",
   "execution_count": 57,
   "id": "5dfd46a3",
   "metadata": {},
   "outputs": [
    {
     "data": {
      "text/plain": [
       "['mice']"
      ]
     },
     "execution_count": 57,
     "metadata": {},
     "output_type": "execute_result"
    }
   ],
   "source": [
    "kk['foods'][2]['likes']"
   ]
  },
  {
   "cell_type": "code",
   "execution_count": 58,
   "id": "7617eb42",
   "metadata": {},
   "outputs": [],
   "source": [
    "kk['likes'] = [kk['foods'][i]['likes'] for i in range(len(kk))]\n"
   ]
  },
  {
   "cell_type": "code",
   "execution_count": 59,
   "id": "fc35513c",
   "metadata": {},
   "outputs": [
    {
     "data": {
      "text/html": [
       "<div>\n",
       "<style scoped>\n",
       "    .dataframe tbody tr th:only-of-type {\n",
       "        vertical-align: middle;\n",
       "    }\n",
       "\n",
       "    .dataframe tbody tr th {\n",
       "        vertical-align: top;\n",
       "    }\n",
       "\n",
       "    .dataframe thead th {\n",
       "        text-align: right;\n",
       "    }\n",
       "</style>\n",
       "<table border=\"1\" class=\"dataframe\">\n",
       "  <thead>\n",
       "    <tr style=\"text-align: right;\">\n",
       "      <th></th>\n",
       "      <th>name</th>\n",
       "      <th>species</th>\n",
       "      <th>foods</th>\n",
       "      <th>likes</th>\n",
       "    </tr>\n",
       "  </thead>\n",
       "  <tbody>\n",
       "    <tr>\n",
       "      <th>0</th>\n",
       "      <td>Meowsy</td>\n",
       "      <td>cat</td>\n",
       "      <td>{'likes': ['tuna', 'catnip'], 'dislikes': ['ha...</td>\n",
       "      <td>[tuna, catnip]</td>\n",
       "    </tr>\n",
       "    <tr>\n",
       "      <th>1</th>\n",
       "      <td>Barky</td>\n",
       "      <td>dog</td>\n",
       "      <td>{'likes': ['bones', 'carrots'], 'dislikes': ['...</td>\n",
       "      <td>[bones, carrots]</td>\n",
       "    </tr>\n",
       "    <tr>\n",
       "      <th>2</th>\n",
       "      <td>Purrpaws</td>\n",
       "      <td>cat</td>\n",
       "      <td>{'likes': ['mice'], 'dislikes': ['cookies']}</td>\n",
       "      <td>[mice]</td>\n",
       "    </tr>\n",
       "  </tbody>\n",
       "</table>\n",
       "</div>"
      ],
      "text/plain": [
       "       name species                                              foods  \\\n",
       "0    Meowsy     cat  {'likes': ['tuna', 'catnip'], 'dislikes': ['ha...   \n",
       "1     Barky     dog  {'likes': ['bones', 'carrots'], 'dislikes': ['...   \n",
       "2  Purrpaws     cat       {'likes': ['mice'], 'dislikes': ['cookies']}   \n",
       "\n",
       "              likes  \n",
       "0    [tuna, catnip]  \n",
       "1  [bones, carrots]  \n",
       "2            [mice]  "
      ]
     },
     "execution_count": 59,
     "metadata": {},
     "output_type": "execute_result"
    }
   ],
   "source": [
    "kk"
   ]
  },
  {
   "cell_type": "code",
   "execution_count": 60,
   "id": "7a9f14dd",
   "metadata": {},
   "outputs": [],
   "source": [
    "kk['dislikes'] = [kk['foods'][i]['dislikes'] for i in range(len(kk))]       "
   ]
  },
  {
   "cell_type": "code",
   "execution_count": 61,
   "id": "37015f89",
   "metadata": {},
   "outputs": [
    {
     "data": {
      "text/html": [
       "<div>\n",
       "<style scoped>\n",
       "    .dataframe tbody tr th:only-of-type {\n",
       "        vertical-align: middle;\n",
       "    }\n",
       "\n",
       "    .dataframe tbody tr th {\n",
       "        vertical-align: top;\n",
       "    }\n",
       "\n",
       "    .dataframe thead th {\n",
       "        text-align: right;\n",
       "    }\n",
       "</style>\n",
       "<table border=\"1\" class=\"dataframe\">\n",
       "  <thead>\n",
       "    <tr style=\"text-align: right;\">\n",
       "      <th></th>\n",
       "      <th>name</th>\n",
       "      <th>species</th>\n",
       "      <th>foods</th>\n",
       "      <th>likes</th>\n",
       "      <th>dislikes</th>\n",
       "    </tr>\n",
       "  </thead>\n",
       "  <tbody>\n",
       "    <tr>\n",
       "      <th>0</th>\n",
       "      <td>Meowsy</td>\n",
       "      <td>cat</td>\n",
       "      <td>{'likes': ['tuna', 'catnip'], 'dislikes': ['ha...</td>\n",
       "      <td>[tuna, catnip]</td>\n",
       "      <td>[ham, zucchini]</td>\n",
       "    </tr>\n",
       "    <tr>\n",
       "      <th>1</th>\n",
       "      <td>Barky</td>\n",
       "      <td>dog</td>\n",
       "      <td>{'likes': ['bones', 'carrots'], 'dislikes': ['...</td>\n",
       "      <td>[bones, carrots]</td>\n",
       "      <td>[tuna]</td>\n",
       "    </tr>\n",
       "    <tr>\n",
       "      <th>2</th>\n",
       "      <td>Purrpaws</td>\n",
       "      <td>cat</td>\n",
       "      <td>{'likes': ['mice'], 'dislikes': ['cookies']}</td>\n",
       "      <td>[mice]</td>\n",
       "      <td>[cookies]</td>\n",
       "    </tr>\n",
       "  </tbody>\n",
       "</table>\n",
       "</div>"
      ],
      "text/plain": [
       "       name species                                              foods  \\\n",
       "0    Meowsy     cat  {'likes': ['tuna', 'catnip'], 'dislikes': ['ha...   \n",
       "1     Barky     dog  {'likes': ['bones', 'carrots'], 'dislikes': ['...   \n",
       "2  Purrpaws     cat       {'likes': ['mice'], 'dislikes': ['cookies']}   \n",
       "\n",
       "              likes         dislikes  \n",
       "0    [tuna, catnip]  [ham, zucchini]  \n",
       "1  [bones, carrots]           [tuna]  \n",
       "2            [mice]        [cookies]  "
      ]
     },
     "execution_count": 61,
     "metadata": {},
     "output_type": "execute_result"
    }
   ],
   "source": [
    "kk"
   ]
  },
  {
   "cell_type": "code",
   "execution_count": 62,
   "id": "cad529de",
   "metadata": {},
   "outputs": [],
   "source": [
    "import pickle \n",
    "pickle.dump(df, open('test.pkl', 'wb'))"
   ]
  },
  {
   "cell_type": "code",
   "execution_count": 63,
   "id": "c70eb6d3",
   "metadata": {},
   "outputs": [
    {
     "data": {
      "text/html": [
       "<div>\n",
       "<style scoped>\n",
       "    .dataframe tbody tr th:only-of-type {\n",
       "        vertical-align: middle;\n",
       "    }\n",
       "\n",
       "    .dataframe tbody tr th {\n",
       "        vertical-align: top;\n",
       "    }\n",
       "\n",
       "    .dataframe thead th {\n",
       "        text-align: right;\n",
       "    }\n",
       "</style>\n",
       "<table border=\"1\" class=\"dataframe\">\n",
       "  <thead>\n",
       "    <tr style=\"text-align: right;\">\n",
       "      <th></th>\n",
       "      <th>date</th>\n",
       "      <th>open</th>\n",
       "      <th>close</th>\n",
       "      <th>year</th>\n",
       "      <th>open_whole_number</th>\n",
       "    </tr>\n",
       "  </thead>\n",
       "  <tbody>\n",
       "    <tr>\n",
       "      <th>0</th>\n",
       "      <td>2003-01-02</td>\n",
       "      <td>19.19</td>\n",
       "      <td>19.57</td>\n",
       "      <td>2003</td>\n",
       "      <td>19.0</td>\n",
       "    </tr>\n",
       "    <tr>\n",
       "      <th>1</th>\n",
       "      <td>2003-01-03</td>\n",
       "      <td>19.59</td>\n",
       "      <td>20.52</td>\n",
       "      <td>2003</td>\n",
       "      <td>19.0</td>\n",
       "    </tr>\n",
       "    <tr>\n",
       "      <th>2</th>\n",
       "      <td>2003-01-06</td>\n",
       "      <td>20.40</td>\n",
       "      <td>20.70</td>\n",
       "      <td>2003</td>\n",
       "      <td>19.0</td>\n",
       "    </tr>\n",
       "    <tr>\n",
       "      <th>3</th>\n",
       "      <td>2003-01-07</td>\n",
       "      <td>20.83</td>\n",
       "      <td>21.55</td>\n",
       "      <td>2003</td>\n",
       "      <td>19.0</td>\n",
       "    </tr>\n",
       "    <tr>\n",
       "      <th>4</th>\n",
       "      <td>2003-01-08</td>\n",
       "      <td>21.44</td>\n",
       "      <td>21.02</td>\n",
       "      <td>2003</td>\n",
       "      <td>21.0</td>\n",
       "    </tr>\n",
       "    <tr>\n",
       "      <th>...</th>\n",
       "      <td>...</td>\n",
       "      <td>...</td>\n",
       "      <td>...</td>\n",
       "      <td>...</td>\n",
       "      <td>...</td>\n",
       "    </tr>\n",
       "    <tr>\n",
       "      <th>1253</th>\n",
       "      <td>2007-12-24</td>\n",
       "      <td>91.05</td>\n",
       "      <td>91.01</td>\n",
       "      <td>2007</td>\n",
       "      <td>91.0</td>\n",
       "    </tr>\n",
       "    <tr>\n",
       "      <th>1254</th>\n",
       "      <td>2007-12-26</td>\n",
       "      <td>91.48</td>\n",
       "      <td>92.85</td>\n",
       "      <td>2007</td>\n",
       "      <td>91.0</td>\n",
       "    </tr>\n",
       "    <tr>\n",
       "      <th>1255</th>\n",
       "      <td>2007-12-27</td>\n",
       "      <td>92.67</td>\n",
       "      <td>94.25</td>\n",
       "      <td>2007</td>\n",
       "      <td>92.0</td>\n",
       "    </tr>\n",
       "    <tr>\n",
       "      <th>1256</th>\n",
       "      <td>2007-12-28</td>\n",
       "      <td>95.27</td>\n",
       "      <td>94.45</td>\n",
       "      <td>2007</td>\n",
       "      <td>95.0</td>\n",
       "    </tr>\n",
       "    <tr>\n",
       "      <th>1257</th>\n",
       "      <td>2007-12-31</td>\n",
       "      <td>93.81</td>\n",
       "      <td>92.64</td>\n",
       "      <td>2007</td>\n",
       "      <td>93.0</td>\n",
       "    </tr>\n",
       "  </tbody>\n",
       "</table>\n",
       "<p>1258 rows × 5 columns</p>\n",
       "</div>"
      ],
      "text/plain": [
       "           date   open  close  year  open_whole_number\n",
       "0    2003-01-02  19.19  19.57  2003               19.0\n",
       "1    2003-01-03  19.59  20.52  2003               19.0\n",
       "2    2003-01-06  20.40  20.70  2003               19.0\n",
       "3    2003-01-07  20.83  21.55  2003               19.0\n",
       "4    2003-01-08  21.44  21.02  2003               21.0\n",
       "...         ...    ...    ...   ...                ...\n",
       "1253 2007-12-24  91.05  91.01  2007               91.0\n",
       "1254 2007-12-26  91.48  92.85  2007               91.0\n",
       "1255 2007-12-27  92.67  94.25  2007               92.0\n",
       "1256 2007-12-28  95.27  94.45  2007               95.0\n",
       "1257 2007-12-31  93.81  92.64  2007               93.0\n",
       "\n",
       "[1258 rows x 5 columns]"
      ]
     },
     "execution_count": 63,
     "metadata": {},
     "output_type": "execute_result"
    }
   ],
   "source": [
    "pickle.load(open('test.pkl', 'rb'))"
   ]
  },
  {
   "cell_type": "code",
   "execution_count": 64,
   "id": "a4c3da7a",
   "metadata": {},
   "outputs": [],
   "source": [
    "df = pd.read_html('https://www.theguardian.com/football/premierleague/table')"
   ]
  },
  {
   "cell_type": "code",
   "execution_count": 65,
   "id": "3f359de1",
   "metadata": {},
   "outputs": [
    {
     "data": {
      "text/html": [
       "<div>\n",
       "<style scoped>\n",
       "    .dataframe tbody tr th:only-of-type {\n",
       "        vertical-align: middle;\n",
       "    }\n",
       "\n",
       "    .dataframe tbody tr th {\n",
       "        vertical-align: top;\n",
       "    }\n",
       "\n",
       "    .dataframe thead th {\n",
       "        text-align: right;\n",
       "    }\n",
       "</style>\n",
       "<table border=\"1\" class=\"dataframe\">\n",
       "  <thead>\n",
       "    <tr style=\"text-align: right;\">\n",
       "      <th></th>\n",
       "      <th>P</th>\n",
       "      <th>Team</th>\n",
       "      <th>GP</th>\n",
       "      <th>W</th>\n",
       "      <th>D</th>\n",
       "      <th>L</th>\n",
       "      <th>F</th>\n",
       "      <th>A</th>\n",
       "      <th>GD</th>\n",
       "      <th>Pts</th>\n",
       "      <th>Form</th>\n",
       "    </tr>\n",
       "  </thead>\n",
       "  <tbody>\n",
       "    <tr>\n",
       "      <th>0</th>\n",
       "      <td>1</td>\n",
       "      <td>Arsenal</td>\n",
       "      <td>33</td>\n",
       "      <td>23</td>\n",
       "      <td>5</td>\n",
       "      <td>5</td>\n",
       "      <td>77</td>\n",
       "      <td>26</td>\n",
       "      <td>51</td>\n",
       "      <td>74</td>\n",
       "      <td>Drew 0-0 with Man City  Won 2-0 against Luton ...</td>\n",
       "    </tr>\n",
       "    <tr>\n",
       "      <th>1</th>\n",
       "      <td>2</td>\n",
       "      <td>Liverpool</td>\n",
       "      <td>33</td>\n",
       "      <td>22</td>\n",
       "      <td>8</td>\n",
       "      <td>3</td>\n",
       "      <td>75</td>\n",
       "      <td>32</td>\n",
       "      <td>43</td>\n",
       "      <td>74</td>\n",
       "      <td>Won 2-1 against Brighton  Won 3-1 against Shef...</td>\n",
       "    </tr>\n",
       "    <tr>\n",
       "      <th>2</th>\n",
       "      <td>3</td>\n",
       "      <td>Man City</td>\n",
       "      <td>32</td>\n",
       "      <td>22</td>\n",
       "      <td>7</td>\n",
       "      <td>3</td>\n",
       "      <td>76</td>\n",
       "      <td>32</td>\n",
       "      <td>44</td>\n",
       "      <td>73</td>\n",
       "      <td>Drew 1-1 with Liverpool  Drew 0-0 with Arsenal...</td>\n",
       "    </tr>\n",
       "    <tr>\n",
       "      <th>3</th>\n",
       "      <td>4</td>\n",
       "      <td>Aston Villa</td>\n",
       "      <td>34</td>\n",
       "      <td>20</td>\n",
       "      <td>6</td>\n",
       "      <td>8</td>\n",
       "      <td>71</td>\n",
       "      <td>50</td>\n",
       "      <td>21</td>\n",
       "      <td>66</td>\n",
       "      <td>Won 2-0 against Wolves  Lost 1-4 to Man City  ...</td>\n",
       "    </tr>\n",
       "    <tr>\n",
       "      <th>4</th>\n",
       "      <td>5</td>\n",
       "      <td>Spurs</td>\n",
       "      <td>32</td>\n",
       "      <td>18</td>\n",
       "      <td>6</td>\n",
       "      <td>8</td>\n",
       "      <td>65</td>\n",
       "      <td>49</td>\n",
       "      <td>16</td>\n",
       "      <td>60</td>\n",
       "      <td>Lost 0-3 to Fulham  Won 2-1 against Luton  Dre...</td>\n",
       "    </tr>\n",
       "    <tr>\n",
       "      <th>5</th>\n",
       "      <td>6</td>\n",
       "      <td>Newcastle</td>\n",
       "      <td>32</td>\n",
       "      <td>15</td>\n",
       "      <td>5</td>\n",
       "      <td>12</td>\n",
       "      <td>69</td>\n",
       "      <td>52</td>\n",
       "      <td>17</td>\n",
       "      <td>50</td>\n",
       "      <td>Lost 2-3 to Chelsea  Won 4-3 against West Ham ...</td>\n",
       "    </tr>\n",
       "    <tr>\n",
       "      <th>6</th>\n",
       "      <td>7</td>\n",
       "      <td>Man Utd</td>\n",
       "      <td>32</td>\n",
       "      <td>15</td>\n",
       "      <td>5</td>\n",
       "      <td>12</td>\n",
       "      <td>47</td>\n",
       "      <td>48</td>\n",
       "      <td>-1</td>\n",
       "      <td>50</td>\n",
       "      <td>Won 2-0 against Everton  Drew 1-1 with Brentfo...</td>\n",
       "    </tr>\n",
       "    <tr>\n",
       "      <th>7</th>\n",
       "      <td>8</td>\n",
       "      <td>West Ham</td>\n",
       "      <td>34</td>\n",
       "      <td>13</td>\n",
       "      <td>9</td>\n",
       "      <td>12</td>\n",
       "      <td>54</td>\n",
       "      <td>63</td>\n",
       "      <td>-9</td>\n",
       "      <td>48</td>\n",
       "      <td>Lost 3-4 to Newcastle  Drew 1-1 with Spurs  Wo...</td>\n",
       "    </tr>\n",
       "    <tr>\n",
       "      <th>8</th>\n",
       "      <td>9</td>\n",
       "      <td>Chelsea</td>\n",
       "      <td>31</td>\n",
       "      <td>13</td>\n",
       "      <td>8</td>\n",
       "      <td>10</td>\n",
       "      <td>61</td>\n",
       "      <td>52</td>\n",
       "      <td>9</td>\n",
       "      <td>47</td>\n",
       "      <td>Won 3-2 against Newcastle  Drew 2-2 with Burnl...</td>\n",
       "    </tr>\n",
       "    <tr>\n",
       "      <th>9</th>\n",
       "      <td>10</td>\n",
       "      <td>Brighton</td>\n",
       "      <td>32</td>\n",
       "      <td>11</td>\n",
       "      <td>11</td>\n",
       "      <td>10</td>\n",
       "      <td>52</td>\n",
       "      <td>50</td>\n",
       "      <td>2</td>\n",
       "      <td>44</td>\n",
       "      <td>Won 1-0 against Nottm Forest  Lost 1-2 to Live...</td>\n",
       "    </tr>\n",
       "    <tr>\n",
       "      <th>10</th>\n",
       "      <td>11</td>\n",
       "      <td>Wolves</td>\n",
       "      <td>33</td>\n",
       "      <td>12</td>\n",
       "      <td>7</td>\n",
       "      <td>14</td>\n",
       "      <td>46</td>\n",
       "      <td>53</td>\n",
       "      <td>-7</td>\n",
       "      <td>43</td>\n",
       "      <td>Lost 0-2 to Aston Villa  Drew 1-1 with Burnley...</td>\n",
       "    </tr>\n",
       "    <tr>\n",
       "      <th>11</th>\n",
       "      <td>12</td>\n",
       "      <td>Fulham</td>\n",
       "      <td>34</td>\n",
       "      <td>12</td>\n",
       "      <td>6</td>\n",
       "      <td>16</td>\n",
       "      <td>50</td>\n",
       "      <td>54</td>\n",
       "      <td>-4</td>\n",
       "      <td>42</td>\n",
       "      <td>Drew 3-3 with Sheff Utd  Lost 1-3 to Nottm For...</td>\n",
       "    </tr>\n",
       "    <tr>\n",
       "      <th>12</th>\n",
       "      <td>13</td>\n",
       "      <td>AFC Bournemouth</td>\n",
       "      <td>33</td>\n",
       "      <td>11</td>\n",
       "      <td>9</td>\n",
       "      <td>13</td>\n",
       "      <td>48</td>\n",
       "      <td>60</td>\n",
       "      <td>-12</td>\n",
       "      <td>42</td>\n",
       "      <td>Won 2-1 against Everton  Won 1-0 against C Pal...</td>\n",
       "    </tr>\n",
       "    <tr>\n",
       "      <th>13</th>\n",
       "      <td>14</td>\n",
       "      <td>C Palace</td>\n",
       "      <td>33</td>\n",
       "      <td>9</td>\n",
       "      <td>9</td>\n",
       "      <td>15</td>\n",
       "      <td>42</td>\n",
       "      <td>56</td>\n",
       "      <td>-14</td>\n",
       "      <td>36</td>\n",
       "      <td>Drew 1-1 with Nottm Forest  Lost 0-1 to AFC Bo...</td>\n",
       "    </tr>\n",
       "    <tr>\n",
       "      <th>14</th>\n",
       "      <td>15</td>\n",
       "      <td>Brentford</td>\n",
       "      <td>34</td>\n",
       "      <td>9</td>\n",
       "      <td>8</td>\n",
       "      <td>17</td>\n",
       "      <td>52</td>\n",
       "      <td>59</td>\n",
       "      <td>-7</td>\n",
       "      <td>35</td>\n",
       "      <td>Drew 1-1 with Man Utd  Drew 0-0 with Brighton ...</td>\n",
       "    </tr>\n",
       "    <tr>\n",
       "      <th>15</th>\n",
       "      <td>16</td>\n",
       "      <td>Everton</td>\n",
       "      <td>33</td>\n",
       "      <td>10</td>\n",
       "      <td>8</td>\n",
       "      <td>15</td>\n",
       "      <td>34</td>\n",
       "      <td>48</td>\n",
       "      <td>-14</td>\n",
       "      <td>30</td>\n",
       "      <td>Lost 1-2 to AFC Bournemouth  Drew 1-1 with New...</td>\n",
       "    </tr>\n",
       "    <tr>\n",
       "      <th>16</th>\n",
       "      <td>17</td>\n",
       "      <td>Nottm Forest</td>\n",
       "      <td>34</td>\n",
       "      <td>7</td>\n",
       "      <td>9</td>\n",
       "      <td>18</td>\n",
       "      <td>42</td>\n",
       "      <td>60</td>\n",
       "      <td>-18</td>\n",
       "      <td>26</td>\n",
       "      <td>Drew 1-1 with C Palace  Won 3-1 against Fulham...</td>\n",
       "    </tr>\n",
       "    <tr>\n",
       "      <th>17</th>\n",
       "      <td>18</td>\n",
       "      <td>Luton</td>\n",
       "      <td>34</td>\n",
       "      <td>6</td>\n",
       "      <td>7</td>\n",
       "      <td>21</td>\n",
       "      <td>47</td>\n",
       "      <td>75</td>\n",
       "      <td>-28</td>\n",
       "      <td>25</td>\n",
       "      <td>Lost 1-2 to Spurs  Lost 0-2 to Arsenal  Won 2-...</td>\n",
       "    </tr>\n",
       "    <tr>\n",
       "      <th>18</th>\n",
       "      <td>19</td>\n",
       "      <td>Burnley</td>\n",
       "      <td>34</td>\n",
       "      <td>5</td>\n",
       "      <td>8</td>\n",
       "      <td>21</td>\n",
       "      <td>37</td>\n",
       "      <td>69</td>\n",
       "      <td>-32</td>\n",
       "      <td>23</td>\n",
       "      <td>Drew 2-2 with Chelsea  Drew 1-1 with Wolves  L...</td>\n",
       "    </tr>\n",
       "    <tr>\n",
       "      <th>19</th>\n",
       "      <td>20</td>\n",
       "      <td>Sheff Utd</td>\n",
       "      <td>33</td>\n",
       "      <td>3</td>\n",
       "      <td>7</td>\n",
       "      <td>23</td>\n",
       "      <td>31</td>\n",
       "      <td>88</td>\n",
       "      <td>-57</td>\n",
       "      <td>16</td>\n",
       "      <td>Drew 3-3 with Fulham  Lost 1-3 to Liverpool  D...</td>\n",
       "    </tr>\n",
       "  </tbody>\n",
       "</table>\n",
       "</div>"
      ],
      "text/plain": [
       "     P             Team  GP   W   D   L   F   A  GD  Pts  \\\n",
       "0    1          Arsenal  33  23   5   5  77  26  51   74   \n",
       "1    2        Liverpool  33  22   8   3  75  32  43   74   \n",
       "2    3         Man City  32  22   7   3  76  32  44   73   \n",
       "3    4      Aston Villa  34  20   6   8  71  50  21   66   \n",
       "4    5            Spurs  32  18   6   8  65  49  16   60   \n",
       "5    6        Newcastle  32  15   5  12  69  52  17   50   \n",
       "6    7          Man Utd  32  15   5  12  47  48  -1   50   \n",
       "7    8         West Ham  34  13   9  12  54  63  -9   48   \n",
       "8    9          Chelsea  31  13   8  10  61  52   9   47   \n",
       "9   10         Brighton  32  11  11  10  52  50   2   44   \n",
       "10  11           Wolves  33  12   7  14  46  53  -7   43   \n",
       "11  12           Fulham  34  12   6  16  50  54  -4   42   \n",
       "12  13  AFC Bournemouth  33  11   9  13  48  60 -12   42   \n",
       "13  14         C Palace  33   9   9  15  42  56 -14   36   \n",
       "14  15        Brentford  34   9   8  17  52  59  -7   35   \n",
       "15  16          Everton  33  10   8  15  34  48 -14   30   \n",
       "16  17     Nottm Forest  34   7   9  18  42  60 -18   26   \n",
       "17  18            Luton  34   6   7  21  47  75 -28   25   \n",
       "18  19          Burnley  34   5   8  21  37  69 -32   23   \n",
       "19  20        Sheff Utd  33   3   7  23  31  88 -57   16   \n",
       "\n",
       "                                                 Form  \n",
       "0   Drew 0-0 with Man City  Won 2-0 against Luton ...  \n",
       "1   Won 2-1 against Brighton  Won 3-1 against Shef...  \n",
       "2   Drew 1-1 with Liverpool  Drew 0-0 with Arsenal...  \n",
       "3   Won 2-0 against Wolves  Lost 1-4 to Man City  ...  \n",
       "4   Lost 0-3 to Fulham  Won 2-1 against Luton  Dre...  \n",
       "5   Lost 2-3 to Chelsea  Won 4-3 against West Ham ...  \n",
       "6   Won 2-0 against Everton  Drew 1-1 with Brentfo...  \n",
       "7   Lost 3-4 to Newcastle  Drew 1-1 with Spurs  Wo...  \n",
       "8   Won 3-2 against Newcastle  Drew 2-2 with Burnl...  \n",
       "9   Won 1-0 against Nottm Forest  Lost 1-2 to Live...  \n",
       "10  Lost 0-2 to Aston Villa  Drew 1-1 with Burnley...  \n",
       "11  Drew 3-3 with Sheff Utd  Lost 1-3 to Nottm For...  \n",
       "12  Won 2-1 against Everton  Won 1-0 against C Pal...  \n",
       "13  Drew 1-1 with Nottm Forest  Lost 0-1 to AFC Bo...  \n",
       "14  Drew 1-1 with Man Utd  Drew 0-0 with Brighton ...  \n",
       "15  Lost 1-2 to AFC Bournemouth  Drew 1-1 with New...  \n",
       "16  Drew 1-1 with C Palace  Won 3-1 against Fulham...  \n",
       "17  Lost 1-2 to Spurs  Lost 0-2 to Arsenal  Won 2-...  \n",
       "18  Drew 2-2 with Chelsea  Drew 1-1 with Wolves  L...  \n",
       "19  Drew 3-3 with Fulham  Lost 1-3 to Liverpool  D...  "
      ]
     },
     "execution_count": 65,
     "metadata": {},
     "output_type": "execute_result"
    }
   ],
   "source": [
    "df[0]"
   ]
  },
  {
   "cell_type": "code",
   "execution_count": 66,
   "id": "0002e7ca",
   "metadata": {},
   "outputs": [
    {
     "data": {
      "text/plain": [
       "[     P             Team  GP   W   D   L   F   A  GD  Pts  \\\n",
       " 0    1          Arsenal  33  23   5   5  77  26  51   74   \n",
       " 1    2        Liverpool  33  22   8   3  75  32  43   74   \n",
       " 2    3         Man City  32  22   7   3  76  32  44   73   \n",
       " 3    4      Aston Villa  34  20   6   8  71  50  21   66   \n",
       " 4    5            Spurs  32  18   6   8  65  49  16   60   \n",
       " 5    6        Newcastle  32  15   5  12  69  52  17   50   \n",
       " 6    7          Man Utd  32  15   5  12  47  48  -1   50   \n",
       " 7    8         West Ham  34  13   9  12  54  63  -9   48   \n",
       " 8    9          Chelsea  31  13   8  10  61  52   9   47   \n",
       " 9   10         Brighton  32  11  11  10  52  50   2   44   \n",
       " 10  11           Wolves  33  12   7  14  46  53  -7   43   \n",
       " 11  12           Fulham  34  12   6  16  50  54  -4   42   \n",
       " 12  13  AFC Bournemouth  33  11   9  13  48  60 -12   42   \n",
       " 13  14         C Palace  33   9   9  15  42  56 -14   36   \n",
       " 14  15        Brentford  34   9   8  17  52  59  -7   35   \n",
       " 15  16          Everton  33  10   8  15  34  48 -14   30   \n",
       " 16  17     Nottm Forest  34   7   9  18  42  60 -18   26   \n",
       " 17  18            Luton  34   6   7  21  47  75 -28   25   \n",
       " 18  19          Burnley  34   5   8  21  37  69 -32   23   \n",
       " 19  20        Sheff Utd  33   3   7  23  31  88 -57   16   \n",
       " \n",
       "                                                  Form  \n",
       " 0   Drew 0-0 with Man City  Won 2-0 against Luton ...  \n",
       " 1   Won 2-1 against Brighton  Won 3-1 against Shef...  \n",
       " 2   Drew 1-1 with Liverpool  Drew 0-0 with Arsenal...  \n",
       " 3   Won 2-0 against Wolves  Lost 1-4 to Man City  ...  \n",
       " 4   Lost 0-3 to Fulham  Won 2-1 against Luton  Dre...  \n",
       " 5   Lost 2-3 to Chelsea  Won 4-3 against West Ham ...  \n",
       " 6   Won 2-0 against Everton  Drew 1-1 with Brentfo...  \n",
       " 7   Lost 3-4 to Newcastle  Drew 1-1 with Spurs  Wo...  \n",
       " 8   Won 3-2 against Newcastle  Drew 2-2 with Burnl...  \n",
       " 9   Won 1-0 against Nottm Forest  Lost 1-2 to Live...  \n",
       " 10  Lost 0-2 to Aston Villa  Drew 1-1 with Burnley...  \n",
       " 11  Drew 3-3 with Sheff Utd  Lost 1-3 to Nottm For...  \n",
       " 12  Won 2-1 against Everton  Won 1-0 against C Pal...  \n",
       " 13  Drew 1-1 with Nottm Forest  Lost 0-1 to AFC Bo...  \n",
       " 14  Drew 1-1 with Man Utd  Drew 0-0 with Brighton ...  \n",
       " 15  Lost 1-2 to AFC Bournemouth  Drew 1-1 with New...  \n",
       " 16  Drew 1-1 with C Palace  Won 3-1 against Fulham...  \n",
       " 17  Lost 1-2 to Spurs  Lost 0-2 to Arsenal  Won 2-...  \n",
       " 18  Drew 2-2 with Chelsea  Drew 1-1 with Wolves  L...  \n",
       " 19  Drew 3-3 with Fulham  Lost 1-3 to Liverpool  D...  ]"
      ]
     },
     "execution_count": 66,
     "metadata": {},
     "output_type": "execute_result"
    }
   ],
   "source": [
    "df"
   ]
  },
  {
   "cell_type": "code",
   "execution_count": 67,
   "id": "7522c4a8",
   "metadata": {},
   "outputs": [
    {
     "data": {
      "text/plain": [
       "list"
      ]
     },
     "execution_count": 67,
     "metadata": {},
     "output_type": "execute_result"
    }
   ],
   "source": [
    "type(df)"
   ]
  },
  {
   "cell_type": "code",
   "execution_count": 68,
   "id": "8fadcc26",
   "metadata": {},
   "outputs": [
    {
     "data": {
      "text/plain": [
       "1"
      ]
     },
     "execution_count": 68,
     "metadata": {},
     "output_type": "execute_result"
    }
   ],
   "source": [
    "len(df)"
   ]
  },
  {
   "cell_type": "code",
   "execution_count": 69,
   "id": "67afe3a3",
   "metadata": {},
   "outputs": [],
   "source": [
    "arr = np.array(df[0])"
   ]
  },
  {
   "cell_type": "code",
   "execution_count": 70,
   "id": "4b61a93a",
   "metadata": {},
   "outputs": [
    {
     "data": {
      "text/plain": [
       "array([[5, 'Spurs', 32, 18, 6, 8, 65, 49, 16, 60,\n",
       "        'Lost 0-3 to Fulham  Won 2-1 against Luton  Drew 1-1 with West Ham  Won 3-1 against Nottm Forest  Lost 0-4 to Newcastle'],\n",
       "       [6, 'Newcastle', 32, 15, 5, 12, 69, 52, 17, 50,\n",
       "        'Lost 2-3 to Chelsea  Won 4-3 against West Ham  Drew 1-1 with Everton  Won 1-0 against Fulham  Won 4-0 against Spurs'],\n",
       "       [7, 'Man Utd', 32, 15, 5, 12, 47, 48, -1, 50,\n",
       "        'Won 2-0 against Everton  Drew 1-1 with Brentford  Lost 3-4 to Chelsea  Drew 2-2 with Liverpool  Drew 2-2 with AFC Bournemouth'],\n",
       "       [8, 'West Ham', 34, 13, 9, 12, 54, 63, -9, 48,\n",
       "        'Lost 3-4 to Newcastle  Drew 1-1 with Spurs  Won 2-1 against Wolves  Lost 0-2 to Fulham  Lost 2-5 to C Palace'],\n",
       "       [9, 'Chelsea', 31, 13, 8, 10, 61, 52, 9, 47,\n",
       "        'Won 3-2 against Newcastle  Drew 2-2 with Burnley  Won 4-3 against Man Utd  Drew 2-2 with Sheff Utd  Won 6-0 against Everton'],\n",
       "       [10, 'Brighton', 32, 11, 11, 10, 52, 50, 2, 44,\n",
       "        'Won 1-0 against Nottm Forest  Lost 1-2 to Liverpool  Drew 0-0 with Brentford  Lost 0-3 to Arsenal  Drew 1-1 with Burnley']],\n",
       "      dtype=object)"
      ]
     },
     "execution_count": 70,
     "metadata": {},
     "output_type": "execute_result"
    }
   ],
   "source": [
    "arr[4:10]"
   ]
  },
  {
   "cell_type": "code",
   "execution_count": 71,
   "id": "6f60eb94",
   "metadata": {
    "scrolled": true
   },
   "outputs": [
    {
     "data": {
      "text/plain": [
       "2"
      ]
     },
     "execution_count": 71,
     "metadata": {},
     "output_type": "execute_result"
    }
   ],
   "source": [
    "arr.ndim"
   ]
  },
  {
   "cell_type": "code",
   "execution_count": 72,
   "id": "cc9af26e",
   "metadata": {},
   "outputs": [
    {
     "data": {
      "text/plain": [
       "(20, 11)"
      ]
     },
     "execution_count": 72,
     "metadata": {},
     "output_type": "execute_result"
    }
   ],
   "source": [
    "arr.shape"
   ]
  },
  {
   "cell_type": "code",
   "execution_count": 73,
   "id": "ed87d259",
   "metadata": {},
   "outputs": [
    {
     "data": {
      "text/plain": [
       "array([[5, 'Spurs', 32, 18, 6, 8, 65, 49, 16, 60,\n",
       "        'Lost 0-3 to Fulham  Won 2-1 against Luton  Drew 1-1 with West Ham  Won 3-1 against Nottm Forest  Lost 0-4 to Newcastle'],\n",
       "       [6, 'Newcastle', 32, 15, 5, 12, 69, 52, 17, 50,\n",
       "        'Lost 2-3 to Chelsea  Won 4-3 against West Ham  Drew 1-1 with Everton  Won 1-0 against Fulham  Won 4-0 against Spurs'],\n",
       "       [7, 'Man Utd', 32, 15, 5, 12, 47, 48, -1, 50,\n",
       "        'Won 2-0 against Everton  Drew 1-1 with Brentford  Lost 3-4 to Chelsea  Drew 2-2 with Liverpool  Drew 2-2 with AFC Bournemouth'],\n",
       "       [8, 'West Ham', 34, 13, 9, 12, 54, 63, -9, 48,\n",
       "        'Lost 3-4 to Newcastle  Drew 1-1 with Spurs  Won 2-1 against Wolves  Lost 0-2 to Fulham  Lost 2-5 to C Palace'],\n",
       "       [9, 'Chelsea', 31, 13, 8, 10, 61, 52, 9, 47,\n",
       "        'Won 3-2 against Newcastle  Drew 2-2 with Burnley  Won 4-3 against Man Utd  Drew 2-2 with Sheff Utd  Won 6-0 against Everton'],\n",
       "       [10, 'Brighton', 32, 11, 11, 10, 52, 50, 2, 44,\n",
       "        'Won 1-0 against Nottm Forest  Lost 1-2 to Liverpool  Drew 0-0 with Brentford  Lost 0-3 to Arsenal  Drew 1-1 with Burnley']],\n",
       "      dtype=object)"
      ]
     },
     "execution_count": 73,
     "metadata": {},
     "output_type": "execute_result"
    }
   ],
   "source": [
    "arr[4:10]"
   ]
  },
  {
   "cell_type": "code",
   "execution_count": 74,
   "id": "edc28ac8",
   "metadata": {},
   "outputs": [
    {
     "data": {
      "text/plain": [
       "array([[[1, 'Arsenal'],\n",
       "        [33, 23],\n",
       "        [5, 5],\n",
       "        [77, 26],\n",
       "        [51, 74],\n",
       "        ['Drew 0-0 with Man City  Won 2-0 against Luton  Won 3-0 against Brighton  Lost 0-2 to Aston Villa  Won 2-0 against Wolves',\n",
       "         2],\n",
       "        ['Liverpool', 33],\n",
       "        [22, 8],\n",
       "        [3, 75],\n",
       "        [32, 43],\n",
       "        [74,\n",
       "         'Won 2-1 against Brighton  Won 3-1 against Sheff Utd  Drew 2-2 with Man Utd  Lost 0-1 to C Palace  Won 3-1 against Fulham']],\n",
       "\n",
       "       [[3, 'Man City'],\n",
       "        [32, 22],\n",
       "        [7, 3],\n",
       "        [76, 32],\n",
       "        [44, 73],\n",
       "        ['Drew 1-1 with Liverpool  Drew 0-0 with Arsenal  Won 4-1 against Aston Villa  Won 4-2 against C Palace  Won 5-1 against Luton',\n",
       "         4],\n",
       "        ['Aston Villa', 34],\n",
       "        [20, 6],\n",
       "        [8, 71],\n",
       "        [50, 21],\n",
       "        [66,\n",
       "         'Won 2-0 against Wolves  Lost 1-4 to Man City  Drew 3-3 with Brentford  Won 2-0 against Arsenal  Won 3-1 against AFC Bournemouth']],\n",
       "\n",
       "       [[5, 'Spurs'],\n",
       "        [32, 18],\n",
       "        [6, 8],\n",
       "        [65, 49],\n",
       "        [16, 60],\n",
       "        ['Lost 0-3 to Fulham  Won 2-1 against Luton  Drew 1-1 with West Ham  Won 3-1 against Nottm Forest  Lost 0-4 to Newcastle',\n",
       "         6],\n",
       "        ['Newcastle', 32],\n",
       "        [15, 5],\n",
       "        [12, 69],\n",
       "        [52, 17],\n",
       "        [50,\n",
       "         'Lost 2-3 to Chelsea  Won 4-3 against West Ham  Drew 1-1 with Everton  Won 1-0 against Fulham  Won 4-0 against Spurs']],\n",
       "\n",
       "       [[7, 'Man Utd'],\n",
       "        [32, 15],\n",
       "        [5, 12],\n",
       "        [47, 48],\n",
       "        [-1, 50],\n",
       "        ['Won 2-0 against Everton  Drew 1-1 with Brentford  Lost 3-4 to Chelsea  Drew 2-2 with Liverpool  Drew 2-2 with AFC Bournemouth',\n",
       "         8],\n",
       "        ['West Ham', 34],\n",
       "        [13, 9],\n",
       "        [12, 54],\n",
       "        [63, -9],\n",
       "        [48,\n",
       "         'Lost 3-4 to Newcastle  Drew 1-1 with Spurs  Won 2-1 against Wolves  Lost 0-2 to Fulham  Lost 2-5 to C Palace']],\n",
       "\n",
       "       [[9, 'Chelsea'],\n",
       "        [31, 13],\n",
       "        [8, 10],\n",
       "        [61, 52],\n",
       "        [9, 47],\n",
       "        ['Won 3-2 against Newcastle  Drew 2-2 with Burnley  Won 4-3 against Man Utd  Drew 2-2 with Sheff Utd  Won 6-0 against Everton',\n",
       "         10],\n",
       "        ['Brighton', 32],\n",
       "        [11, 11],\n",
       "        [10, 52],\n",
       "        [50, 2],\n",
       "        [44,\n",
       "         'Won 1-0 against Nottm Forest  Lost 1-2 to Liverpool  Drew 0-0 with Brentford  Lost 0-3 to Arsenal  Drew 1-1 with Burnley']],\n",
       "\n",
       "       [[11, 'Wolves'],\n",
       "        [33, 12],\n",
       "        [7, 14],\n",
       "        [46, 53],\n",
       "        [-7, 43],\n",
       "        ['Lost 0-2 to Aston Villa  Drew 1-1 with Burnley  Lost 1-2 to West Ham  Drew 2-2 with Nottm Forest  Lost 0-2 to Arsenal',\n",
       "         12],\n",
       "        ['Fulham', 34],\n",
       "        [12, 6],\n",
       "        [16, 50],\n",
       "        [54, -4],\n",
       "        [42,\n",
       "         'Drew 3-3 with Sheff Utd  Lost 1-3 to Nottm Forest  Lost 0-1 to Newcastle  Won 2-0 against West Ham  Lost 1-3 to Liverpool']],\n",
       "\n",
       "       [[13, 'AFC Bournemouth'],\n",
       "        [33, 11],\n",
       "        [9, 13],\n",
       "        [48, 60],\n",
       "        [-12, 42],\n",
       "        ['Won 2-1 against Everton  Won 1-0 against C Palace  Lost 1-2 to Luton  Drew 2-2 with Man Utd  Lost 1-3 to Aston Villa',\n",
       "         14],\n",
       "        ['C Palace', 33],\n",
       "        [9, 9],\n",
       "        [15, 42],\n",
       "        [56, -14],\n",
       "        [36,\n",
       "         'Drew 1-1 with Nottm Forest  Lost 0-1 to AFC Bournemouth  Lost 2-4 to Man City  Won 1-0 against Liverpool  Won 5-2 against West Ham']],\n",
       "\n",
       "       [[15, 'Brentford'],\n",
       "        [34, 9],\n",
       "        [8, 17],\n",
       "        [52, 59],\n",
       "        [-7, 35],\n",
       "        ['Drew 1-1 with Man Utd  Drew 0-0 with Brighton  Drew 3-3 with Aston Villa  Won 2-0 against Sheff Utd  Won 5-1 against Luton',\n",
       "         16],\n",
       "        ['Everton', 33],\n",
       "        [10, 8],\n",
       "        [15, 34],\n",
       "        [48, -14],\n",
       "        [30,\n",
       "         'Lost 1-2 to AFC Bournemouth  Drew 1-1 with Newcastle  Won 1-0 against Burnley  Lost 0-6 to Chelsea  Won 2-0 against Nottm Forest']],\n",
       "\n",
       "       [[17, 'Nottm Forest'],\n",
       "        [34, 7],\n",
       "        [9, 18],\n",
       "        [42, 60],\n",
       "        [-18, 26],\n",
       "        ['Drew 1-1 with C Palace  Won 3-1 against Fulham  Lost 1-3 to Spurs  Drew 2-2 with Wolves  Lost 0-2 to Everton',\n",
       "         18],\n",
       "        ['Luton', 34],\n",
       "        [6, 7],\n",
       "        [21, 47],\n",
       "        [75, -28],\n",
       "        [25,\n",
       "         'Lost 1-2 to Spurs  Lost 0-2 to Arsenal  Won 2-1 against AFC Bournemouth  Lost 1-5 to Man City  Lost 1-5 to Brentford']],\n",
       "\n",
       "       [[19, 'Burnley'],\n",
       "        [34, 5],\n",
       "        [8, 21],\n",
       "        [37, 69],\n",
       "        [-32, 23],\n",
       "        ['Drew 2-2 with Chelsea  Drew 1-1 with Wolves  Lost 0-1 to Everton  Drew 1-1 with Brighton  Won 4-1 against Sheff Utd',\n",
       "         20],\n",
       "        ['Sheff Utd', 33],\n",
       "        [3, 7],\n",
       "        [23, 31],\n",
       "        [88, -57],\n",
       "        [16,\n",
       "         'Drew 3-3 with Fulham  Lost 1-3 to Liverpool  Drew 2-2 with Chelsea  Lost 0-2 to Brentford  Lost 1-4 to Burnley']]],\n",
       "      dtype=object)"
      ]
     },
     "execution_count": 74,
     "metadata": {},
     "output_type": "execute_result"
    }
   ],
   "source": [
    "arr.reshape(10,11, -1045646545)"
   ]
  },
  {
   "cell_type": "code",
   "execution_count": 78,
   "id": "b035e67b",
   "metadata": {},
   "outputs": [
    {
     "data": {
      "text/plain": [
       "array([[1, 'Arsenal', 33, 23, 5, 5, 77, 26, 51, 74,\n",
       "        'Drew 0-0 with Man City  Won 2-0 against Luton  Won 3-0 against Brighton  Lost 0-2 to Aston Villa  Won 2-0 against Wolves'],\n",
       "       [2, 'Liverpool', 33, 22, 8, 3, 75, 32, 43, 74,\n",
       "        'Won 2-1 against Brighton  Won 3-1 against Sheff Utd  Drew 2-2 with Man Utd  Lost 0-1 to C Palace  Won 3-1 against Fulham'],\n",
       "       [3, 'Man City', 32, 22, 7, 3, 76, 32, 44, 73,\n",
       "        'Drew 1-1 with Liverpool  Drew 0-0 with Arsenal  Won 4-1 against Aston Villa  Won 4-2 against C Palace  Won 5-1 against Luton'],\n",
       "       [4, 'Aston Villa', 34, 20, 6, 8, 71, 50, 21, 66,\n",
       "        'Won 2-0 against Wolves  Lost 1-4 to Man City  Drew 3-3 with Brentford  Won 2-0 against Arsenal  Won 3-1 against AFC Bournemouth']],\n",
       "      dtype=object)"
      ]
     },
     "execution_count": 78,
     "metadata": {},
     "output_type": "execute_result"
    }
   ],
   "source": [
    "arr[0:4]"
   ]
  },
  {
   "cell_type": "code",
   "execution_count": 79,
   "id": "3cada083",
   "metadata": {},
   "outputs": [],
   "source": [
    "import numpy as np\n",
    "\n",
    "# Create a NumPy array\n",
    "array = np.array([[1, 2, 3],\n",
    "                [4, 5, 6]])"
   ]
  },
  {
   "cell_type": "code",
   "execution_count": 80,
   "id": "38fb3de9",
   "metadata": {},
   "outputs": [
    {
     "data": {
      "text/plain": [
       "array([[1, 2, 3],\n",
       "       [4, 5, 6]])"
      ]
     },
     "execution_count": 80,
     "metadata": {},
     "output_type": "execute_result"
    }
   ],
   "source": [
    "array"
   ]
  },
  {
   "cell_type": "code",
   "execution_count": 81,
   "id": "380f3738",
   "metadata": {},
   "outputs": [
    {
     "data": {
      "text/plain": [
       "(2, 3)"
      ]
     },
     "execution_count": 81,
     "metadata": {},
     "output_type": "execute_result"
    }
   ],
   "source": [
    "array.shape"
   ]
  },
  {
   "cell_type": "code",
   "execution_count": 83,
   "id": "fd196364",
   "metadata": {},
   "outputs": [],
   "source": [
    "new_shape = (3, 2)\n",
    "reshaped_arr = array.reshape(new_shape)"
   ]
  },
  {
   "cell_type": "code",
   "execution_count": 84,
   "id": "f1e22302",
   "metadata": {},
   "outputs": [
    {
     "data": {
      "text/plain": [
       "array([[1, 2],\n",
       "       [3, 4],\n",
       "       [5, 6]])"
      ]
     },
     "execution_count": 84,
     "metadata": {},
     "output_type": "execute_result"
    }
   ],
   "source": [
    "reshaped_arr"
   ]
  },
  {
   "cell_type": "code",
   "execution_count": 87,
   "id": "0d90d827",
   "metadata": {},
   "outputs": [
    {
     "name": "stdout",
     "output_type": "stream",
     "text": [
      "[[1 2]\n",
      " [3 4]\n",
      " [5 6]]\n"
     ]
    }
   ],
   "source": [
    "import numpy as np\n",
    "\n",
    "# Create a NumPy array\n",
    "array = np.array([1, 2, 3, 4, 5, 6])\n",
    "\n",
    "# Reshape the array with a negative number as the third parameter\n",
    "reshaped_arr = array.reshape(3,2)\n",
    "\n",
    "print(reshaped_arr)"
   ]
  },
  {
   "cell_type": "code",
   "execution_count": 89,
   "id": "5e61f016",
   "metadata": {},
   "outputs": [
    {
     "data": {
      "text/plain": [
       "(3, 2)"
      ]
     },
     "execution_count": 89,
     "metadata": {},
     "output_type": "execute_result"
    }
   ],
   "source": [
    "reshaped_arr.shape"
   ]
  },
  {
   "cell_type": "code",
   "execution_count": 90,
   "id": "7ea40699",
   "metadata": {},
   "outputs": [
    {
     "name": "stdout",
     "output_type": "stream",
     "text": [
      "[[1 2 3]\n",
      " [4 5 6]]\n"
     ]
    }
   ],
   "source": [
    "import numpy as np\n",
    "\n",
    "# Create a NumPy array\n",
    "array = np.array([1, 2, 3, 4, 5, 6])\n",
    "\n",
    "# Reshape the array with a negative number as the third parameter\n",
    "reshaped_arr = array.reshape(2,-1)\n",
    "\n",
    "print(reshaped_arr)"
   ]
  },
  {
   "cell_type": "code",
   "execution_count": 91,
   "id": "2404584b",
   "metadata": {},
   "outputs": [
    {
     "data": {
      "text/plain": [
       "array([[0.70657474, 0.41512033, 0.41890074, 0.90311503, 0.25621897],\n",
       "       [0.58428807, 0.53254578, 0.55200834, 0.94433886, 0.52739089],\n",
       "       [0.16448283, 0.88176735, 0.57476898, 0.66596094, 0.22806679],\n",
       "       [0.80914029, 0.09455035, 0.60995177, 0.46822177, 0.08375477]])"
      ]
     },
     "execution_count": 91,
     "metadata": {},
     "output_type": "execute_result"
    }
   ],
   "source": [
    "np.random.rand(4,5)"
   ]
  },
  {
   "cell_type": "code",
   "execution_count": 92,
   "id": "c942d5eb",
   "metadata": {},
   "outputs": [
    {
     "data": {
      "text/plain": [
       "array([[-0.31422353, -0.63228683,  1.82240528, -0.64045403,  1.42151161],\n",
       "       [ 0.34321951,  0.10196587, -1.18199213,  0.14703908, -1.59785438],\n",
       "       [-0.5990749 , -2.50813499,  0.2532553 ,  0.50050211,  0.02579187],\n",
       "       [-2.72160487, -0.31310457, -1.04691198, -0.50576916, -0.37724869]])"
      ]
     },
     "execution_count": 92,
     "metadata": {},
     "output_type": "execute_result"
    }
   ],
   "source": [
    "np.random.randn(4,5)"
   ]
  },
  {
   "cell_type": "code",
   "execution_count": 101,
   "id": "43d89d11",
   "metadata": {},
   "outputs": [
    {
     "data": {
      "text/plain": [
       "array([[4, 5, 4, 5],\n",
       "       [4, 5, 4, 3],\n",
       "       [3, 3, 3, 5]])"
      ]
     },
     "execution_count": 101,
     "metadata": {},
     "output_type": "execute_result"
    }
   ],
   "source": [
    "arr=np.random.randint(3,6, (3,4))\n",
    "#(3,4) is the shape\n",
    "arr"
   ]
  },
  {
   "cell_type": "code",
   "execution_count": 100,
   "id": "1e514440",
   "metadata": {},
   "outputs": [
    {
     "data": {
      "text/plain": [
       "[<matplotlib.lines.Line2D at 0x2df9ed07350>,\n",
       " <matplotlib.lines.Line2D at 0x2df9ed048d0>,\n",
       " <matplotlib.lines.Line2D at 0x2df9ed1fc10>,\n",
       " <matplotlib.lines.Line2D at 0x2df9ed8be10>]"
      ]
     },
     "execution_count": 100,
     "metadata": {},
     "output_type": "execute_result"
    },
    {
     "data": {
      "image/png": "[encoded data removed]",
      "text/plain": [
       "<Figure size 640x480 with 1 Axes>"
      ]
     },
     "metadata": {},
     "output_type": "display_data"
    }
   ],
   "source": [
    "import matplotlib.pyplot as plt\n",
    "plt.plot(arr, 'o')"
   ]
  },
  {
   "cell_type": "code",
   "execution_count": null,
   "id": "1f358b88",
   "metadata": {},
   "outputs": [],
   "source": []
  },
  {
   "cell_type": "code",
   "execution_count": null,
   "id": "8c44fb0c",
   "metadata": {},
   "outputs": [],
   "source": []
  },
  {
   "cell_type": "code",
   "execution_count": null,
   "id": "0f35075b",
   "metadata": {},
   "outputs": [],
   "source": []
  },
  {
   "cell_type": "code",
   "execution_count": null,
   "id": "952ec6de",
   "metadata": {},
   "outputs": [],
   "source": []
  },
  {
   "cell_type": "code",
   "execution_count": null,
   "id": "11700026",
   "metadata": {},
   "outputs": [],
   "source": []
  },
  {
   "cell_type": "code",
   "execution_count": null,
   "id": "db4f4297",
   "metadata": {},
   "outputs": [],
   "source": []
  },
  {
   "cell_type": "code",
   "execution_count": null,
   "id": "5dd9e8e0",
   "metadata": {},
   "outputs": [],
   "source": []
  },
  {
   "cell_type": "code",
   "execution_count": null,
   "id": "1fc5d8b3",
   "metadata": {},
   "outputs": [],
   "source": []
  },
  {
   "cell_type": "code",
   "execution_count": null,
   "id": "c2559b29",
   "metadata": {},
   "outputs": [],
   "source": []
  },
  {
   "cell_type": "code",
   "execution_count": null,
   "id": "357785fa",
   "metadata": {},
   "outputs": [],
   "source": []
  },
  {
   "cell_type": "code",
   "execution_count": null,
   "id": "8e4dd9c1",
   "metadata": {},
   "outputs": [],
   "source": []
  },
  {
   "cell_type": "code",
   "execution_count": null,
   "id": "4e80a648",
   "metadata": {},
   "outputs": [],
   "source": []
  },
  {
   "cell_type": "code",
   "execution_count": null,
   "id": "bd2651c8",
   "metadata": {},
   "outputs": [],
   "source": []
  },
  {
   "cell_type": "code",
   "execution_count": null,
   "id": "298e299b",
   "metadata": {},
   "outputs": [],
   "source": []
  },
  {
   "cell_type": "code",
   "execution_count": null,
   "id": "c8ed12e1",
   "metadata": {},
   "outputs": [],
   "source": []
  },
  {
   "cell_type": "code",
   "execution_count": null,
   "id": "c707ca7e",
   "metadata": {},
   "outputs": [],
   "source": []
  },
  {
   "cell_type": "code",
   "execution_count": null,
   "id": "d606a0a1",
   "metadata": {},
   "outputs": [],
   "source": []
  },
  {
   "cell_type": "code",
   "execution_count": null,
   "id": "13450922",
   "metadata": {},
   "outputs": [],
   "source": []
  },
  {
   "cell_type": "code",
   "execution_count": null,
   "id": "94fbb161",
   "metadata": {},
   "outputs": [],
   "source": []
  },
  {
   "cell_type": "code",
   "execution_count": null,
   "id": "ba3610aa",
   "metadata": {},
   "outputs": [],
   "source": []
  },
  {
   "cell_type": "code",
   "execution_count": null,
   "id": "decfaf4a",
   "metadata": {},
   "outputs": [],
   "source": []
  },
  {
   "cell_type": "code",
   "execution_count": null,
   "id": "6d819548",
   "metadata": {},
   "outputs": [],
   "source": []
  },
  {
   "cell_type": "code",
   "execution_count": null,
   "id": "1a25343e",
   "metadata": {},
   "outputs": [],
   "source": []
  },
  {
   "cell_type": "code",
   "execution_count": null,
   "id": "5c7c05e3",
   "metadata": {},
   "outputs": [],
   "source": []
  },
  {
   "cell_type": "code",
   "execution_count": null,
   "id": "ad483a17",
   "metadata": {},
   "outputs": [],
   "source": []
  },
  {
   "cell_type": "code",
   "execution_count": null,
   "id": "9f1343c8",
   "metadata": {},
   "outputs": [],
   "source": []
  }
 ],
 "metadata": {
  "kernelspec": {
   "display_name": "Python 3 (ipykernel)",
   "language": "python",
   "name": "python3"
  },
  "language_info": {
   "codemirror_mode": {
    "name": "ipython",
    "version": 3
   },
   "file_extension": ".py",
   "mimetype": "text/x-python",
   "name": "python",
   "nbconvert_exporter": "python",
   "pygments_lexer": "ipython3",
   "version": "3.11.4"
  }
 },
 "nbformat": 4,
 "nbformat_minor": 5
}
